{
 "cells": [
  {
   "cell_type": "code",
   "execution_count": 1,
   "metadata": {},
   "outputs": [],
   "source": [
    "import pandas as pd\n",
    "import numpy as np\n",
    "import matplotlib.pyplot as plt\n",
    "from scipy import stats, integrate\n",
    "import seaborn as sns"
   ]
  },
  {
   "cell_type": "code",
   "execution_count": 2,
   "metadata": {},
   "outputs": [],
   "source": [
    "moviedata = pd.read_csv(\"movies_data.csv\")"
   ]
  },
  {
   "cell_type": "code",
   "execution_count": 3,
   "metadata": {},
   "outputs": [
    {
     "data": {
      "text/plain": [
       "(2242, 11)"
      ]
     },
     "execution_count": 3,
     "metadata": {},
     "output_type": "execute_result"
    }
   ],
   "source": [
    "moviedata.shape"
   ]
  },
  {
   "cell_type": "code",
   "execution_count": 4,
   "metadata": {},
   "outputs": [
    {
     "data": {
      "text/plain": [
       "Index(['budget', 'genres', 'id', 'production_companies', 'release_date',\n",
       "       'release_month', 'revenue', 'tagline', 'title', 'vote_average',\n",
       "       'award_noms'],\n",
       "      dtype='object')"
      ]
     },
     "execution_count": 4,
     "metadata": {},
     "output_type": "execute_result"
    }
   ],
   "source": [
    "moviedata.columns"
   ]
  },
  {
   "cell_type": "code",
   "execution_count": 3,
   "metadata": {},
   "outputs": [
    {
     "data": {
      "text/html": [
       "<div>\n",
       "<style scoped>\n",
       "    .dataframe tbody tr th:only-of-type {\n",
       "        vertical-align: middle;\n",
       "    }\n",
       "\n",
       "    .dataframe tbody tr th {\n",
       "        vertical-align: top;\n",
       "    }\n",
       "\n",
       "    .dataframe thead th {\n",
       "        text-align: right;\n",
       "    }\n",
       "</style>\n",
       "<table border=\"1\" class=\"dataframe\">\n",
       "  <thead>\n",
       "    <tr style=\"text-align: right;\">\n",
       "      <th></th>\n",
       "      <th>budget</th>\n",
       "      <th>genres</th>\n",
       "      <th>id</th>\n",
       "      <th>production_companies</th>\n",
       "      <th>release_date</th>\n",
       "      <th>release_month</th>\n",
       "      <th>revenue</th>\n",
       "      <th>tagline</th>\n",
       "      <th>title</th>\n",
       "      <th>vote_average</th>\n",
       "      <th>award_noms</th>\n",
       "    </tr>\n",
       "  </thead>\n",
       "  <tbody>\n",
       "    <tr>\n",
       "      <th>0</th>\n",
       "      <td>3512454</td>\n",
       "      <td>Drama</td>\n",
       "      <td>110428</td>\n",
       "      <td>[{'name': 'Canal+', 'id': 5358}, {'name': 'Art...</td>\n",
       "      <td>3/13/2013</td>\n",
       "      <td>March</td>\n",
       "      <td>115860</td>\n",
       "      <td>NaN</td>\n",
       "      <td>Camille Claudel 1915</td>\n",
       "      <td>7.0</td>\n",
       "      <td>0</td>\n",
       "    </tr>\n",
       "    <tr>\n",
       "      <th>1</th>\n",
       "      <td>40000000</td>\n",
       "      <td>Adventure</td>\n",
       "      <td>77221</td>\n",
       "      <td>[{'name': 'France 2 CinÃ©ma', 'id': 83}, {'nam...</td>\n",
       "      <td>12/21/2011</td>\n",
       "      <td>December</td>\n",
       "      <td>5446000</td>\n",
       "      <td>NaN</td>\n",
       "      <td>Black Gold</td>\n",
       "      <td>5.9</td>\n",
       "      <td>0</td>\n",
       "    </tr>\n",
       "    <tr>\n",
       "      <th>2</th>\n",
       "      <td>21000000</td>\n",
       "      <td>Crime</td>\n",
       "      <td>1646</td>\n",
       "      <td>[{'name': 'Double Feature Films', 'id': 215}, ...</td>\n",
       "      <td>1/5/2007</td>\n",
       "      <td>January</td>\n",
       "      <td>41170784</td>\n",
       "      <td>Their story. Their world. Their future.</td>\n",
       "      <td>Freedom Writers</td>\n",
       "      <td>7.6</td>\n",
       "      <td>0</td>\n",
       "    </tr>\n",
       "    <tr>\n",
       "      <th>3</th>\n",
       "      <td>20000000</td>\n",
       "      <td>Action</td>\n",
       "      <td>14396</td>\n",
       "      <td>[{'name': 'New Line Cinema', 'id': 12}]</td>\n",
       "      <td>1/5/2007</td>\n",
       "      <td>January</td>\n",
       "      <td>10337477</td>\n",
       "      <td>NaN</td>\n",
       "      <td>Code Name: The Cleaner</td>\n",
       "      <td>4.7</td>\n",
       "      <td>0</td>\n",
       "    </tr>\n",
       "    <tr>\n",
       "      <th>4</th>\n",
       "      <td>13000000</td>\n",
       "      <td>Drama</td>\n",
       "      <td>1931</td>\n",
       "      <td>[{'name': 'Rainforest Films', 'id': 1309}]</td>\n",
       "      <td>5/16/2007</td>\n",
       "      <td>May</td>\n",
       "      <td>75511123</td>\n",
       "      <td>He will challenge their traditions. Their trad...</td>\n",
       "      <td>Stomp the Yard</td>\n",
       "      <td>6.1</td>\n",
       "      <td>0</td>\n",
       "    </tr>\n",
       "  </tbody>\n",
       "</table>\n",
       "</div>"
      ],
      "text/plain": [
       "     budget     genres      id  \\\n",
       "0   3512454      Drama  110428   \n",
       "1  40000000  Adventure   77221   \n",
       "2  21000000      Crime    1646   \n",
       "3  20000000     Action   14396   \n",
       "4  13000000      Drama    1931   \n",
       "\n",
       "                                production_companies release_date  \\\n",
       "0  [{'name': 'Canal+', 'id': 5358}, {'name': 'Art...    3/13/2013   \n",
       "1  [{'name': 'France 2 CinÃ©ma', 'id': 83}, {'nam...   12/21/2011   \n",
       "2  [{'name': 'Double Feature Films', 'id': 215}, ...     1/5/2007   \n",
       "3            [{'name': 'New Line Cinema', 'id': 12}]     1/5/2007   \n",
       "4         [{'name': 'Rainforest Films', 'id': 1309}]    5/16/2007   \n",
       "\n",
       "  release_month   revenue                                            tagline  \\\n",
       "0         March    115860                                                NaN   \n",
       "1      December   5446000                                                NaN   \n",
       "2       January  41170784            Their story. Their world. Their future.   \n",
       "3       January  10337477                                                NaN   \n",
       "4           May  75511123  He will challenge their traditions. Their trad...   \n",
       "\n",
       "                    title  vote_average  award_noms  \n",
       "0    Camille Claudel 1915           7.0           0  \n",
       "1              Black Gold           5.9           0  \n",
       "2         Freedom Writers           7.6           0  \n",
       "3  Code Name: The Cleaner           4.7           0  \n",
       "4          Stomp the Yard           6.1           0  "
      ]
     },
     "execution_count": 3,
     "metadata": {},
     "output_type": "execute_result"
    }
   ],
   "source": [
    "moviedata.head()"
   ]
  },
  {
   "cell_type": "markdown",
   "metadata": {},
   "source": [
    "# Top 10 Movies by Revenue"
   ]
  },
  {
   "cell_type": "code",
   "execution_count": 4,
   "metadata": {},
   "outputs": [
    {
     "data": {
      "text/html": [
       "<style  type=\"text/css\" >\n",
       "</style>  \n",
       "<table id=\"T_cf114f9e_3cd2_11e8_819b_3ca067dc5c7c\" > \n",
       "<thead>    <tr> \n",
       "        <th class=\"blank level0\" ></th> \n",
       "        <th class=\"col_heading level0 col0\" >title</th> \n",
       "        <th class=\"col_heading level0 col1\" >revenue</th> \n",
       "        <th class=\"col_heading level0 col2\" >budget</th> \n",
       "        <th class=\"col_heading level0 col3\" >genres</th> \n",
       "        <th class=\"col_heading level0 col4\" >release_month</th> \n",
       "        <th class=\"col_heading level0 col5\" >vote_average</th> \n",
       "        <th class=\"col_heading level0 col6\" >award_noms</th> \n",
       "        <th class=\"col_heading level0 col7\" >roi</th> \n",
       "    </tr></thead> \n",
       "<tbody>    <tr> \n",
       "        <th id=\"T_cf114f9e_3cd2_11e8_819b_3ca067dc5c7clevel0_row0\" class=\"row_heading level0 row0\" >507</th> \n",
       "        <td id=\"T_cf114f9e_3cd2_11e8_819b_3ca067dc5c7crow0_col0\" class=\"data row0 col0\" >Avatar</td> \n",
       "        <td id=\"T_cf114f9e_3cd2_11e8_819b_3ca067dc5c7crow0_col1\" class=\"data row0 col1\" >$2,787,965,087</td> \n",
       "        <td id=\"T_cf114f9e_3cd2_11e8_819b_3ca067dc5c7crow0_col2\" class=\"data row0 col2\" >$237,000,000</td> \n",
       "        <td id=\"T_cf114f9e_3cd2_11e8_819b_3ca067dc5c7crow0_col3\" class=\"data row0 col3\" >Action</td> \n",
       "        <td id=\"T_cf114f9e_3cd2_11e8_819b_3ca067dc5c7crow0_col4\" class=\"data row0 col4\" >December</td> \n",
       "        <td id=\"T_cf114f9e_3cd2_11e8_819b_3ca067dc5c7crow0_col5\" class=\"data row0 col5\" >7.2</td> \n",
       "        <td id=\"T_cf114f9e_3cd2_11e8_819b_3ca067dc5c7crow0_col6\" class=\"data row0 col6\" >9</td> \n",
       "        <td id=\"T_cf114f9e_3cd2_11e8_819b_3ca067dc5c7crow0_col7\" class=\"data row0 col7\" >1076%</td> \n",
       "    </tr>    <tr> \n",
       "        <th id=\"T_cf114f9e_3cd2_11e8_819b_3ca067dc5c7clevel0_row1\" class=\"row_heading level0 row1\" >1603</th> \n",
       "        <td id=\"T_cf114f9e_3cd2_11e8_819b_3ca067dc5c7crow1_col0\" class=\"data row1 col0\" >Star Wars: The Force Awakens</td> \n",
       "        <td id=\"T_cf114f9e_3cd2_11e8_819b_3ca067dc5c7crow1_col1\" class=\"data row1 col1\" >$2,068,223,624</td> \n",
       "        <td id=\"T_cf114f9e_3cd2_11e8_819b_3ca067dc5c7crow1_col2\" class=\"data row1 col2\" >$245,000,000</td> \n",
       "        <td id=\"T_cf114f9e_3cd2_11e8_819b_3ca067dc5c7crow1_col3\" class=\"data row1 col3\" >Action</td> \n",
       "        <td id=\"T_cf114f9e_3cd2_11e8_819b_3ca067dc5c7crow1_col4\" class=\"data row1 col4\" >December</td> \n",
       "        <td id=\"T_cf114f9e_3cd2_11e8_819b_3ca067dc5c7crow1_col5\" class=\"data row1 col5\" >7.5</td> \n",
       "        <td id=\"T_cf114f9e_3cd2_11e8_819b_3ca067dc5c7crow1_col6\" class=\"data row1 col6\" >0</td> \n",
       "        <td id=\"T_cf114f9e_3cd2_11e8_819b_3ca067dc5c7crow1_col7\" class=\"data row1 col7\" >744%</td> \n",
       "    </tr>    <tr> \n",
       "        <th id=\"T_cf114f9e_3cd2_11e8_819b_3ca067dc5c7clevel0_row2\" class=\"row_heading level0 row2\" >870</th> \n",
       "        <td id=\"T_cf114f9e_3cd2_11e8_819b_3ca067dc5c7crow2_col0\" class=\"data row2 col0\" >The Avengers</td> \n",
       "        <td id=\"T_cf114f9e_3cd2_11e8_819b_3ca067dc5c7crow2_col1\" class=\"data row2 col1\" >$1,519,557,910</td> \n",
       "        <td id=\"T_cf114f9e_3cd2_11e8_819b_3ca067dc5c7crow2_col2\" class=\"data row2 col2\" >$220,000,000</td> \n",
       "        <td id=\"T_cf114f9e_3cd2_11e8_819b_3ca067dc5c7crow2_col3\" class=\"data row2 col3\" >Science Fiction</td> \n",
       "        <td id=\"T_cf114f9e_3cd2_11e8_819b_3ca067dc5c7crow2_col4\" class=\"data row2 col4\" >April</td> \n",
       "        <td id=\"T_cf114f9e_3cd2_11e8_819b_3ca067dc5c7crow2_col5\" class=\"data row2 col5\" >7.4</td> \n",
       "        <td id=\"T_cf114f9e_3cd2_11e8_819b_3ca067dc5c7crow2_col6\" class=\"data row2 col6\" >0</td> \n",
       "        <td id=\"T_cf114f9e_3cd2_11e8_819b_3ca067dc5c7crow2_col7\" class=\"data row2 col7\" >591%</td> \n",
       "    </tr>    <tr> \n",
       "        <th id=\"T_cf114f9e_3cd2_11e8_819b_3ca067dc5c7clevel0_row3\" class=\"row_heading level0 row3\" >1551</th> \n",
       "        <td id=\"T_cf114f9e_3cd2_11e8_819b_3ca067dc5c7crow3_col0\" class=\"data row3 col0\" >Jurassic World</td> \n",
       "        <td id=\"T_cf114f9e_3cd2_11e8_819b_3ca067dc5c7crow3_col1\" class=\"data row3 col1\" >$1,513,528,810</td> \n",
       "        <td id=\"T_cf114f9e_3cd2_11e8_819b_3ca067dc5c7crow3_col2\" class=\"data row3 col2\" >$150,000,000</td> \n",
       "        <td id=\"T_cf114f9e_3cd2_11e8_819b_3ca067dc5c7crow3_col3\" class=\"data row3 col3\" >Action</td> \n",
       "        <td id=\"T_cf114f9e_3cd2_11e8_819b_3ca067dc5c7crow3_col4\" class=\"data row3 col4\" >June</td> \n",
       "        <td id=\"T_cf114f9e_3cd2_11e8_819b_3ca067dc5c7crow3_col5\" class=\"data row3 col5\" >6.5</td> \n",
       "        <td id=\"T_cf114f9e_3cd2_11e8_819b_3ca067dc5c7crow3_col6\" class=\"data row3 col6\" >0</td> \n",
       "        <td id=\"T_cf114f9e_3cd2_11e8_819b_3ca067dc5c7crow3_col7\" class=\"data row3 col7\" >909%</td> \n",
       "    </tr>    <tr> \n",
       "        <th id=\"T_cf114f9e_3cd2_11e8_819b_3ca067dc5c7clevel0_row4\" class=\"row_heading level0 row4\" >1664</th> \n",
       "        <td id=\"T_cf114f9e_3cd2_11e8_819b_3ca067dc5c7crow4_col0\" class=\"data row4 col0\" >Furious 7</td> \n",
       "        <td id=\"T_cf114f9e_3cd2_11e8_819b_3ca067dc5c7crow4_col1\" class=\"data row4 col1\" >$1,506,249,360</td> \n",
       "        <td id=\"T_cf114f9e_3cd2_11e8_819b_3ca067dc5c7crow4_col2\" class=\"data row4 col2\" >$190,000,000</td> \n",
       "        <td id=\"T_cf114f9e_3cd2_11e8_819b_3ca067dc5c7crow4_col3\" class=\"data row4 col3\" >Action</td> \n",
       "        <td id=\"T_cf114f9e_3cd2_11e8_819b_3ca067dc5c7crow4_col4\" class=\"data row4 col4\" >April</td> \n",
       "        <td id=\"T_cf114f9e_3cd2_11e8_819b_3ca067dc5c7crow4_col5\" class=\"data row4 col5\" >7.3</td> \n",
       "        <td id=\"T_cf114f9e_3cd2_11e8_819b_3ca067dc5c7crow4_col6\" class=\"data row4 col6\" >0</td> \n",
       "        <td id=\"T_cf114f9e_3cd2_11e8_819b_3ca067dc5c7crow4_col7\" class=\"data row4 col7\" >693%</td> \n",
       "    </tr>    <tr> \n",
       "        <th id=\"T_cf114f9e_3cd2_11e8_819b_3ca067dc5c7clevel0_row5\" class=\"row_heading level0 row5\" >1606</th> \n",
       "        <td id=\"T_cf114f9e_3cd2_11e8_819b_3ca067dc5c7crow5_col0\" class=\"data row5 col0\" >Avengers: Age of Ultron</td> \n",
       "        <td id=\"T_cf114f9e_3cd2_11e8_819b_3ca067dc5c7crow5_col1\" class=\"data row5 col1\" >$1,405,403,694</td> \n",
       "        <td id=\"T_cf114f9e_3cd2_11e8_819b_3ca067dc5c7crow5_col2\" class=\"data row5 col2\" >$280,000,000</td> \n",
       "        <td id=\"T_cf114f9e_3cd2_11e8_819b_3ca067dc5c7crow5_col3\" class=\"data row5 col3\" >Action</td> \n",
       "        <td id=\"T_cf114f9e_3cd2_11e8_819b_3ca067dc5c7crow5_col4\" class=\"data row5 col4\" >April</td> \n",
       "        <td id=\"T_cf114f9e_3cd2_11e8_819b_3ca067dc5c7crow5_col5\" class=\"data row5 col5\" >7.3</td> \n",
       "        <td id=\"T_cf114f9e_3cd2_11e8_819b_3ca067dc5c7crow5_col6\" class=\"data row5 col6\" >0</td> \n",
       "        <td id=\"T_cf114f9e_3cd2_11e8_819b_3ca067dc5c7crow5_col7\" class=\"data row5 col7\" >402%</td> \n",
       "    </tr>    <tr> \n",
       "        <th id=\"T_cf114f9e_3cd2_11e8_819b_3ca067dc5c7clevel0_row6\" class=\"row_heading level0 row6\" >825</th> \n",
       "        <td id=\"T_cf114f9e_3cd2_11e8_819b_3ca067dc5c7crow6_col0\" class=\"data row6 col0\" >Harry Potter and the Deathly Hallows: Part 2</td> \n",
       "        <td id=\"T_cf114f9e_3cd2_11e8_819b_3ca067dc5c7crow6_col1\" class=\"data row6 col1\" >$1,342,000,000</td> \n",
       "        <td id=\"T_cf114f9e_3cd2_11e8_819b_3ca067dc5c7crow6_col2\" class=\"data row6 col2\" >$125,000,000</td> \n",
       "        <td id=\"T_cf114f9e_3cd2_11e8_819b_3ca067dc5c7crow6_col3\" class=\"data row6 col3\" >Family</td> \n",
       "        <td id=\"T_cf114f9e_3cd2_11e8_819b_3ca067dc5c7crow6_col4\" class=\"data row6 col4\" >July</td> \n",
       "        <td id=\"T_cf114f9e_3cd2_11e8_819b_3ca067dc5c7crow6_col5\" class=\"data row6 col5\" >7.9</td> \n",
       "        <td id=\"T_cf114f9e_3cd2_11e8_819b_3ca067dc5c7crow6_col6\" class=\"data row6 col6\" >0</td> \n",
       "        <td id=\"T_cf114f9e_3cd2_11e8_819b_3ca067dc5c7crow6_col7\" class=\"data row6 col7\" >974%</td> \n",
       "    </tr>    <tr> \n",
       "        <th id=\"T_cf114f9e_3cd2_11e8_819b_3ca067dc5c7clevel0_row7\" class=\"row_heading level0 row7\" >1332</th> \n",
       "        <td id=\"T_cf114f9e_3cd2_11e8_819b_3ca067dc5c7crow7_col0\" class=\"data row7 col0\" >Frozen</td> \n",
       "        <td id=\"T_cf114f9e_3cd2_11e8_819b_3ca067dc5c7crow7_col1\" class=\"data row7 col1\" >$1,274,219,009</td> \n",
       "        <td id=\"T_cf114f9e_3cd2_11e8_819b_3ca067dc5c7crow7_col2\" class=\"data row7 col2\" >$150,000,000</td> \n",
       "        <td id=\"T_cf114f9e_3cd2_11e8_819b_3ca067dc5c7crow7_col3\" class=\"data row7 col3\" >Animation</td> \n",
       "        <td id=\"T_cf114f9e_3cd2_11e8_819b_3ca067dc5c7crow7_col4\" class=\"data row7 col4\" >November</td> \n",
       "        <td id=\"T_cf114f9e_3cd2_11e8_819b_3ca067dc5c7crow7_col5\" class=\"data row7 col5\" >7.3</td> \n",
       "        <td id=\"T_cf114f9e_3cd2_11e8_819b_3ca067dc5c7crow7_col6\" class=\"data row7 col6\" >2</td> \n",
       "        <td id=\"T_cf114f9e_3cd2_11e8_819b_3ca067dc5c7crow7_col7\" class=\"data row7 col7\" >749%</td> \n",
       "    </tr>    <tr> \n",
       "        <th id=\"T_cf114f9e_3cd2_11e8_819b_3ca067dc5c7clevel0_row8\" class=\"row_heading level0 row8\" >2154</th> \n",
       "        <td id=\"T_cf114f9e_3cd2_11e8_819b_3ca067dc5c7crow8_col0\" class=\"data row8 col0\" >Beauty and the Beast</td> \n",
       "        <td id=\"T_cf114f9e_3cd2_11e8_819b_3ca067dc5c7crow8_col1\" class=\"data row8 col1\" >$1,262,886,337</td> \n",
       "        <td id=\"T_cf114f9e_3cd2_11e8_819b_3ca067dc5c7crow8_col2\" class=\"data row8 col2\" >$160,000,000</td> \n",
       "        <td id=\"T_cf114f9e_3cd2_11e8_819b_3ca067dc5c7crow8_col3\" class=\"data row8 col3\" >Family</td> \n",
       "        <td id=\"T_cf114f9e_3cd2_11e8_819b_3ca067dc5c7crow8_col4\" class=\"data row8 col4\" >March</td> \n",
       "        <td id=\"T_cf114f9e_3cd2_11e8_819b_3ca067dc5c7crow8_col5\" class=\"data row8 col5\" >6.8</td> \n",
       "        <td id=\"T_cf114f9e_3cd2_11e8_819b_3ca067dc5c7crow8_col6\" class=\"data row8 col6\" >0</td> \n",
       "        <td id=\"T_cf114f9e_3cd2_11e8_819b_3ca067dc5c7crow8_col7\" class=\"data row8 col7\" >689%</td> \n",
       "    </tr>    <tr> \n",
       "        <th id=\"T_cf114f9e_3cd2_11e8_819b_3ca067dc5c7clevel0_row9\" class=\"row_heading level0 row9\" >2189</th> \n",
       "        <td id=\"T_cf114f9e_3cd2_11e8_819b_3ca067dc5c7crow9_col0\" class=\"data row9 col0\" >The Fate of the Furious</td> \n",
       "        <td id=\"T_cf114f9e_3cd2_11e8_819b_3ca067dc5c7crow9_col1\" class=\"data row9 col1\" >$1,238,764,765</td> \n",
       "        <td id=\"T_cf114f9e_3cd2_11e8_819b_3ca067dc5c7crow9_col2\" class=\"data row9 col2\" >$250,000,000</td> \n",
       "        <td id=\"T_cf114f9e_3cd2_11e8_819b_3ca067dc5c7crow9_col3\" class=\"data row9 col3\" >Action</td> \n",
       "        <td id=\"T_cf114f9e_3cd2_11e8_819b_3ca067dc5c7crow9_col4\" class=\"data row9 col4\" >April</td> \n",
       "        <td id=\"T_cf114f9e_3cd2_11e8_819b_3ca067dc5c7crow9_col5\" class=\"data row9 col5\" >6.8</td> \n",
       "        <td id=\"T_cf114f9e_3cd2_11e8_819b_3ca067dc5c7crow9_col6\" class=\"data row9 col6\" >0</td> \n",
       "        <td id=\"T_cf114f9e_3cd2_11e8_819b_3ca067dc5c7crow9_col7\" class=\"data row9 col7\" >396%</td> \n",
       "    </tr></tbody> \n",
       "</table> "
      ],
      "text/plain": [
       "<pandas.io.formats.style.Styler at 0x1eb52b5ee80>"
      ]
     },
     "execution_count": 4,
     "metadata": {},
     "output_type": "execute_result"
    }
   ],
   "source": [
    "movdat = moviedata[['title','revenue','budget','genres','release_month','vote_average','award_noms']]\n",
    "roi = pd.DataFrame((movdat['revenue']/movdat['budget']-1),columns=['roi'])\n",
    "movdat_df = pd.merge(movdat,roi, how='outer',left_index=True,right_index=True)\n",
    "\n",
    "byrev = movdat_df.sort_values(['revenue'], ascending=False).head(10)\n",
    "byrev.style.format({'revenue': \"${:,.0f}\", 'budget': '${:,.0f}', 'roi': '{:.0%}'})"
   ]
  },
  {
   "cell_type": "markdown",
   "metadata": {},
   "source": [
    "# Top 10 Movies by Budget Costs"
   ]
  },
  {
   "cell_type": "code",
   "execution_count": 7,
   "metadata": {},
   "outputs": [
    {
     "data": {
      "text/html": [
       "<style  type=\"text/css\" >\n",
       "</style>  \n",
       "<table id=\"T_e6d1175c_3b8e_11e8_8e6d_3ca067dc5c7c\" > \n",
       "<thead>    <tr> \n",
       "        <th class=\"blank level0\" ></th> \n",
       "        <th class=\"col_heading level0 col0\" >title</th> \n",
       "        <th class=\"col_heading level0 col1\" >revenue</th> \n",
       "        <th class=\"col_heading level0 col2\" >budget</th> \n",
       "        <th class=\"col_heading level0 col3\" >genres</th> \n",
       "        <th class=\"col_heading level0 col4\" >release_month</th> \n",
       "        <th class=\"col_heading level0 col5\" >vote_average</th> \n",
       "        <th class=\"col_heading level0 col6\" >award_noms</th> \n",
       "        <th class=\"col_heading level0 col7\" >roi</th> \n",
       "    </tr></thead> \n",
       "<tbody>    <tr> \n",
       "        <th id=\"T_e6d1175c_3b8e_11e8_8e6d_3ca067dc5c7clevel0_row0\" class=\"row_heading level0 row0\" >793</th> \n",
       "        <td id=\"T_e6d1175c_3b8e_11e8_8e6d_3ca067dc5c7crow0_col0\" class=\"data row0 col0\" >Pirates of the Caribbean: On Stranger Tides</td> \n",
       "        <td id=\"T_e6d1175c_3b8e_11e8_8e6d_3ca067dc5c7crow0_col1\" class=\"data row0 col1\" >$1,045,713,802</td> \n",
       "        <td id=\"T_e6d1175c_3b8e_11e8_8e6d_3ca067dc5c7crow0_col2\" class=\"data row0 col2\" >$380,000,000</td> \n",
       "        <td id=\"T_e6d1175c_3b8e_11e8_8e6d_3ca067dc5c7crow0_col3\" class=\"data row0 col3\" >Adventure</td> \n",
       "        <td id=\"T_e6d1175c_3b8e_11e8_8e6d_3ca067dc5c7crow0_col4\" class=\"data row0 col4\" >May</td> \n",
       "        <td id=\"T_e6d1175c_3b8e_11e8_8e6d_3ca067dc5c7crow0_col5\" class=\"data row0 col5\" >6.4</td> \n",
       "        <td id=\"T_e6d1175c_3b8e_11e8_8e6d_3ca067dc5c7crow0_col6\" class=\"data row0 col6\" >0</td> \n",
       "        <td id=\"T_e6d1175c_3b8e_11e8_8e6d_3ca067dc5c7crow0_col7\" class=\"data row0 col7\" >175%</td> \n",
       "    </tr>    <tr> \n",
       "        <th id=\"T_e6d1175c_3b8e_11e8_8e6d_3ca067dc5c7clevel0_row1\" class=\"row_heading level0 row1\" >45</th> \n",
       "        <td id=\"T_e6d1175c_3b8e_11e8_8e6d_3ca067dc5c7crow1_col0\" class=\"data row1 col0\" >Pirates of the Caribbean: At World's End</td> \n",
       "        <td id=\"T_e6d1175c_3b8e_11e8_8e6d_3ca067dc5c7crow1_col1\" class=\"data row1 col1\" >$961,000,000</td> \n",
       "        <td id=\"T_e6d1175c_3b8e_11e8_8e6d_3ca067dc5c7crow1_col2\" class=\"data row1 col2\" >$300,000,000</td> \n",
       "        <td id=\"T_e6d1175c_3b8e_11e8_8e6d_3ca067dc5c7crow1_col3\" class=\"data row1 col3\" >Adventure</td> \n",
       "        <td id=\"T_e6d1175c_3b8e_11e8_8e6d_3ca067dc5c7crow1_col4\" class=\"data row1 col4\" >May</td> \n",
       "        <td id=\"T_e6d1175c_3b8e_11e8_8e6d_3ca067dc5c7crow1_col5\" class=\"data row1 col5\" >6.9</td> \n",
       "        <td id=\"T_e6d1175c_3b8e_11e8_8e6d_3ca067dc5c7crow1_col6\" class=\"data row1 col6\" >0</td> \n",
       "        <td id=\"T_e6d1175c_3b8e_11e8_8e6d_3ca067dc5c7crow1_col7\" class=\"data row1 col7\" >220%</td> \n",
       "    </tr>    <tr> \n",
       "        <th id=\"T_e6d1175c_3b8e_11e8_8e6d_3ca067dc5c7clevel0_row2\" class=\"row_heading level0 row2\" >1606</th> \n",
       "        <td id=\"T_e6d1175c_3b8e_11e8_8e6d_3ca067dc5c7crow2_col0\" class=\"data row2 col0\" >Avengers: Age of Ultron</td> \n",
       "        <td id=\"T_e6d1175c_3b8e_11e8_8e6d_3ca067dc5c7crow2_col1\" class=\"data row2 col1\" >$1,405,403,694</td> \n",
       "        <td id=\"T_e6d1175c_3b8e_11e8_8e6d_3ca067dc5c7crow2_col2\" class=\"data row2 col2\" >$280,000,000</td> \n",
       "        <td id=\"T_e6d1175c_3b8e_11e8_8e6d_3ca067dc5c7crow2_col3\" class=\"data row2 col3\" >Action</td> \n",
       "        <td id=\"T_e6d1175c_3b8e_11e8_8e6d_3ca067dc5c7crow2_col4\" class=\"data row2 col4\" >April</td> \n",
       "        <td id=\"T_e6d1175c_3b8e_11e8_8e6d_3ca067dc5c7crow2_col5\" class=\"data row2 col5\" >7.3</td> \n",
       "        <td id=\"T_e6d1175c_3b8e_11e8_8e6d_3ca067dc5c7crow2_col6\" class=\"data row2 col6\" >0</td> \n",
       "        <td id=\"T_e6d1175c_3b8e_11e8_8e6d_3ca067dc5c7crow2_col7\" class=\"data row2 col7\" >402%</td> \n",
       "    </tr>    <tr> \n",
       "        <th id=\"T_e6d1175c_3b8e_11e8_8e6d_3ca067dc5c7clevel0_row3\" class=\"row_heading level0 row3\" >689</th> \n",
       "        <td id=\"T_e6d1175c_3b8e_11e8_8e6d_3ca067dc5c7crow3_col0\" class=\"data row3 col0\" >Tangled</td> \n",
       "        <td id=\"T_e6d1175c_3b8e_11e8_8e6d_3ca067dc5c7crow3_col1\" class=\"data row3 col1\" >$591,794,936</td> \n",
       "        <td id=\"T_e6d1175c_3b8e_11e8_8e6d_3ca067dc5c7crow3_col2\" class=\"data row3 col2\" >$260,000,000</td> \n",
       "        <td id=\"T_e6d1175c_3b8e_11e8_8e6d_3ca067dc5c7crow3_col3\" class=\"data row3 col3\" >Animation</td> \n",
       "        <td id=\"T_e6d1175c_3b8e_11e8_8e6d_3ca067dc5c7crow3_col4\" class=\"data row3 col4\" >November</td> \n",
       "        <td id=\"T_e6d1175c_3b8e_11e8_8e6d_3ca067dc5c7crow3_col5\" class=\"data row3 col5\" >7.4</td> \n",
       "        <td id=\"T_e6d1175c_3b8e_11e8_8e6d_3ca067dc5c7crow3_col6\" class=\"data row3 col6\" >0</td> \n",
       "        <td id=\"T_e6d1175c_3b8e_11e8_8e6d_3ca067dc5c7crow3_col7\" class=\"data row3 col7\" >128%</td> \n",
       "    </tr>    <tr> \n",
       "        <th id=\"T_e6d1175c_3b8e_11e8_8e6d_3ca067dc5c7clevel0_row4\" class=\"row_heading level0 row4\" >2232</th> \n",
       "        <td id=\"T_e6d1175c_3b8e_11e8_8e6d_3ca067dc5c7crow4_col0\" class=\"data row4 col0\" >Transformers: The Last Knight</td> \n",
       "        <td id=\"T_e6d1175c_3b8e_11e8_8e6d_3ca067dc5c7crow4_col1\" class=\"data row4 col1\" >$604,942,143</td> \n",
       "        <td id=\"T_e6d1175c_3b8e_11e8_8e6d_3ca067dc5c7crow4_col2\" class=\"data row4 col2\" >$260,000,000</td> \n",
       "        <td id=\"T_e6d1175c_3b8e_11e8_8e6d_3ca067dc5c7crow4_col3\" class=\"data row4 col3\" >Action</td> \n",
       "        <td id=\"T_e6d1175c_3b8e_11e8_8e6d_3ca067dc5c7crow4_col4\" class=\"data row4 col4\" >June</td> \n",
       "        <td id=\"T_e6d1175c_3b8e_11e8_8e6d_3ca067dc5c7crow4_col5\" class=\"data row4 col5\" >6.2</td> \n",
       "        <td id=\"T_e6d1175c_3b8e_11e8_8e6d_3ca067dc5c7crow4_col6\" class=\"data row4 col6\" >0</td> \n",
       "        <td id=\"T_e6d1175c_3b8e_11e8_8e6d_3ca067dc5c7crow4_col7\" class=\"data row4 col7\" >133%</td> \n",
       "    </tr>    <tr> \n",
       "        <th id=\"T_e6d1175c_3b8e_11e8_8e6d_3ca067dc5c7clevel0_row5\" class=\"row_heading level0 row5\" >991</th> \n",
       "        <td id=\"T_e6d1175c_3b8e_11e8_8e6d_3ca067dc5c7crow5_col0\" class=\"data row5 col0\" >John Carter</td> \n",
       "        <td id=\"T_e6d1175c_3b8e_11e8_8e6d_3ca067dc5c7crow5_col1\" class=\"data row5 col1\" >$284,139,100</td> \n",
       "        <td id=\"T_e6d1175c_3b8e_11e8_8e6d_3ca067dc5c7crow5_col2\" class=\"data row5 col2\" >$260,000,000</td> \n",
       "        <td id=\"T_e6d1175c_3b8e_11e8_8e6d_3ca067dc5c7crow5_col3\" class=\"data row5 col3\" >Action</td> \n",
       "        <td id=\"T_e6d1175c_3b8e_11e8_8e6d_3ca067dc5c7crow5_col4\" class=\"data row5 col4\" >March</td> \n",
       "        <td id=\"T_e6d1175c_3b8e_11e8_8e6d_3ca067dc5c7crow5_col5\" class=\"data row5 col5\" >6.1</td> \n",
       "        <td id=\"T_e6d1175c_3b8e_11e8_8e6d_3ca067dc5c7crow5_col6\" class=\"data row5 col6\" >0</td> \n",
       "        <td id=\"T_e6d1175c_3b8e_11e8_8e6d_3ca067dc5c7crow5_col7\" class=\"data row5 col7\" >9%</td> \n",
       "    </tr>    <tr> \n",
       "        <th id=\"T_e6d1175c_3b8e_11e8_8e6d_3ca067dc5c7clevel0_row6\" class=\"row_heading level0 row6\" >39</th> \n",
       "        <td id=\"T_e6d1175c_3b8e_11e8_8e6d_3ca067dc5c7crow6_col0\" class=\"data row6 col0\" >Spider-Man 3</td> \n",
       "        <td id=\"T_e6d1175c_3b8e_11e8_8e6d_3ca067dc5c7crow6_col1\" class=\"data row6 col1\" >$890,871,626</td> \n",
       "        <td id=\"T_e6d1175c_3b8e_11e8_8e6d_3ca067dc5c7crow6_col2\" class=\"data row6 col2\" >$258,000,000</td> \n",
       "        <td id=\"T_e6d1175c_3b8e_11e8_8e6d_3ca067dc5c7crow6_col3\" class=\"data row6 col3\" >Fantasy</td> \n",
       "        <td id=\"T_e6d1175c_3b8e_11e8_8e6d_3ca067dc5c7crow6_col4\" class=\"data row6 col4\" >May</td> \n",
       "        <td id=\"T_e6d1175c_3b8e_11e8_8e6d_3ca067dc5c7crow6_col5\" class=\"data row6 col5\" >5.9</td> \n",
       "        <td id=\"T_e6d1175c_3b8e_11e8_8e6d_3ca067dc5c7crow6_col6\" class=\"data row6 col6\" >0</td> \n",
       "        <td id=\"T_e6d1175c_3b8e_11e8_8e6d_3ca067dc5c7crow6_col7\" class=\"data row6 col7\" >245%</td> \n",
       "    </tr>    <tr> \n",
       "        <th id=\"T_e6d1175c_3b8e_11e8_8e6d_3ca067dc5c7clevel0_row7\" class=\"row_heading level0 row7\" >1251</th> \n",
       "        <td id=\"T_e6d1175c_3b8e_11e8_8e6d_3ca067dc5c7crow7_col0\" class=\"data row7 col0\" >The Lone Ranger</td> \n",
       "        <td id=\"T_e6d1175c_3b8e_11e8_8e6d_3ca067dc5c7crow7_col1\" class=\"data row7 col1\" >$89,289,910</td> \n",
       "        <td id=\"T_e6d1175c_3b8e_11e8_8e6d_3ca067dc5c7crow7_col2\" class=\"data row7 col2\" >$255,000,000</td> \n",
       "        <td id=\"T_e6d1175c_3b8e_11e8_8e6d_3ca067dc5c7crow7_col3\" class=\"data row7 col3\" >Action</td> \n",
       "        <td id=\"T_e6d1175c_3b8e_11e8_8e6d_3ca067dc5c7crow7_col4\" class=\"data row7 col4\" >July</td> \n",
       "        <td id=\"T_e6d1175c_3b8e_11e8_8e6d_3ca067dc5c7crow7_col5\" class=\"data row7 col5\" >5.9</td> \n",
       "        <td id=\"T_e6d1175c_3b8e_11e8_8e6d_3ca067dc5c7crow7_col6\" class=\"data row7 col6\" >0</td> \n",
       "        <td id=\"T_e6d1175c_3b8e_11e8_8e6d_3ca067dc5c7crow7_col7\" class=\"data row7 col7\" >-65%</td> \n",
       "    </tr>    <tr> \n",
       "        <th id=\"T_e6d1175c_3b8e_11e8_8e6d_3ca067dc5c7clevel0_row8\" class=\"row_heading level0 row8\" >687</th> \n",
       "        <td id=\"T_e6d1175c_3b8e_11e8_8e6d_3ca067dc5c7crow8_col0\" class=\"data row8 col0\" >Harry Potter and the Deathly Hallows: Part 1</td> \n",
       "        <td id=\"T_e6d1175c_3b8e_11e8_8e6d_3ca067dc5c7crow8_col1\" class=\"data row8 col1\" >$954,305,868</td> \n",
       "        <td id=\"T_e6d1175c_3b8e_11e8_8e6d_3ca067dc5c7crow8_col2\" class=\"data row8 col2\" >$250,000,000</td> \n",
       "        <td id=\"T_e6d1175c_3b8e_11e8_8e6d_3ca067dc5c7crow8_col3\" class=\"data row8 col3\" >Adventure</td> \n",
       "        <td id=\"T_e6d1175c_3b8e_11e8_8e6d_3ca067dc5c7crow8_col4\" class=\"data row8 col4\" >October</td> \n",
       "        <td id=\"T_e6d1175c_3b8e_11e8_8e6d_3ca067dc5c7crow8_col5\" class=\"data row8 col5\" >7.5</td> \n",
       "        <td id=\"T_e6d1175c_3b8e_11e8_8e6d_3ca067dc5c7crow8_col6\" class=\"data row8 col6\" >0</td> \n",
       "        <td id=\"T_e6d1175c_3b8e_11e8_8e6d_3ca067dc5c7crow8_col7\" class=\"data row8 col7\" >282%</td> \n",
       "    </tr>    <tr> \n",
       "        <th id=\"T_e6d1175c_3b8e_11e8_8e6d_3ca067dc5c7clevel0_row9\" class=\"row_heading level0 row9\" >1129</th> \n",
       "        <td id=\"T_e6d1175c_3b8e_11e8_8e6d_3ca067dc5c7crow9_col0\" class=\"data row9 col0\" >The Hobbit: An Unexpected Journey</td> \n",
       "        <td id=\"T_e6d1175c_3b8e_11e8_8e6d_3ca067dc5c7crow9_col1\" class=\"data row9 col1\" >$1,021,103,568</td> \n",
       "        <td id=\"T_e6d1175c_3b8e_11e8_8e6d_3ca067dc5c7crow9_col2\" class=\"data row9 col2\" >$250,000,000</td> \n",
       "        <td id=\"T_e6d1175c_3b8e_11e8_8e6d_3ca067dc5c7crow9_col3\" class=\"data row9 col3\" >Adventure</td> \n",
       "        <td id=\"T_e6d1175c_3b8e_11e8_8e6d_3ca067dc5c7crow9_col4\" class=\"data row9 col4\" >November</td> \n",
       "        <td id=\"T_e6d1175c_3b8e_11e8_8e6d_3ca067dc5c7crow9_col5\" class=\"data row9 col5\" >7</td> \n",
       "        <td id=\"T_e6d1175c_3b8e_11e8_8e6d_3ca067dc5c7crow9_col6\" class=\"data row9 col6\" >0</td> \n",
       "        <td id=\"T_e6d1175c_3b8e_11e8_8e6d_3ca067dc5c7crow9_col7\" class=\"data row9 col7\" >308%</td> \n",
       "    </tr></tbody> \n",
       "</table> "
      ],
      "text/plain": [
       "<pandas.io.formats.style.Styler at 0x2208e2405c0>"
      ]
     },
     "execution_count": 7,
     "metadata": {},
     "output_type": "execute_result"
    }
   ],
   "source": [
    "bybud = movdat_df.sort_values(['budget'], ascending=False).head(10)\n",
    "bybud.style.format({'revenue': \"${:,.0f}\", 'budget': '${:,.0f}', 'roi': '{:.0%}'})"
   ]
  },
  {
   "cell_type": "markdown",
   "metadata": {},
   "source": [
    "# Top 10 Movies by Award Nominations"
   ]
  },
  {
   "cell_type": "code",
   "execution_count": 8,
   "metadata": {},
   "outputs": [
    {
     "data": {
      "text/html": [
       "<style  type=\"text/css\" >\n",
       "</style>  \n",
       "<table id=\"T_eef26488_3b8e_11e8_849d_3ca067dc5c7c\" > \n",
       "<thead>    <tr> \n",
       "        <th class=\"blank level0\" ></th> \n",
       "        <th class=\"col_heading level0 col0\" >title</th> \n",
       "        <th class=\"col_heading level0 col1\" >revenue</th> \n",
       "        <th class=\"col_heading level0 col2\" >budget</th> \n",
       "        <th class=\"col_heading level0 col3\" >genres</th> \n",
       "        <th class=\"col_heading level0 col4\" >release_month</th> \n",
       "        <th class=\"col_heading level0 col5\" >vote_average</th> \n",
       "        <th class=\"col_heading level0 col6\" >award_noms</th> \n",
       "        <th class=\"col_heading level0 col7\" >roi</th> \n",
       "    </tr></thead> \n",
       "<tbody>    <tr> \n",
       "        <th id=\"T_eef26488_3b8e_11e8_849d_3ca067dc5c7clevel0_row0\" class=\"row_heading level0 row0\" >2078</th> \n",
       "        <td id=\"T_eef26488_3b8e_11e8_849d_3ca067dc5c7crow0_col0\" class=\"data row0 col0\" >La La Land</td> \n",
       "        <td id=\"T_eef26488_3b8e_11e8_849d_3ca067dc5c7crow0_col1\" class=\"data row0 col1\" >$445,435,700</td> \n",
       "        <td id=\"T_eef26488_3b8e_11e8_849d_3ca067dc5c7crow0_col2\" class=\"data row0 col2\" >$30,000,000</td> \n",
       "        <td id=\"T_eef26488_3b8e_11e8_849d_3ca067dc5c7crow0_col3\" class=\"data row0 col3\" >Comedy</td> \n",
       "        <td id=\"T_eef26488_3b8e_11e8_849d_3ca067dc5c7crow0_col4\" class=\"data row0 col4\" >November</td> \n",
       "        <td id=\"T_eef26488_3b8e_11e8_849d_3ca067dc5c7crow0_col5\" class=\"data row0 col5\" >7.9</td> \n",
       "        <td id=\"T_eef26488_3b8e_11e8_849d_3ca067dc5c7crow0_col6\" class=\"data row0 col6\" >14</td> \n",
       "        <td id=\"T_eef26488_3b8e_11e8_849d_3ca067dc5c7crow0_col7\" class=\"data row0 col7\" >1385%</td> \n",
       "    </tr>    <tr> \n",
       "        <th id=\"T_eef26488_3b8e_11e8_849d_3ca067dc5c7clevel0_row1\" class=\"row_heading level0 row1\" >318</th> \n",
       "        <td id=\"T_eef26488_3b8e_11e8_849d_3ca067dc5c7crow1_col0\" class=\"data row1 col0\" >The Curious Case of Benjamin Button</td> \n",
       "        <td id=\"T_eef26488_3b8e_11e8_849d_3ca067dc5c7crow1_col1\" class=\"data row1 col1\" >$333,932,083</td> \n",
       "        <td id=\"T_eef26488_3b8e_11e8_849d_3ca067dc5c7crow1_col2\" class=\"data row1 col2\" >$150,000,000</td> \n",
       "        <td id=\"T_eef26488_3b8e_11e8_849d_3ca067dc5c7crow1_col3\" class=\"data row1 col3\" >Fantasy</td> \n",
       "        <td id=\"T_eef26488_3b8e_11e8_849d_3ca067dc5c7crow1_col4\" class=\"data row1 col4\" >November</td> \n",
       "        <td id=\"T_eef26488_3b8e_11e8_849d_3ca067dc5c7crow1_col5\" class=\"data row1 col5\" >7.3</td> \n",
       "        <td id=\"T_eef26488_3b8e_11e8_849d_3ca067dc5c7crow1_col6\" class=\"data row1 col6\" >13</td> \n",
       "        <td id=\"T_eef26488_3b8e_11e8_849d_3ca067dc5c7crow1_col7\" class=\"data row1 col7\" >123%</td> \n",
       "    </tr>    <tr> \n",
       "        <th id=\"T_eef26488_3b8e_11e8_849d_3ca067dc5c7clevel0_row2\" class=\"row_heading level0 row2\" >1121</th> \n",
       "        <td id=\"T_eef26488_3b8e_11e8_849d_3ca067dc5c7crow2_col0\" class=\"data row2 col0\" >Lincoln</td> \n",
       "        <td id=\"T_eef26488_3b8e_11e8_849d_3ca067dc5c7crow2_col1\" class=\"data row2 col1\" >$275,293,450</td> \n",
       "        <td id=\"T_eef26488_3b8e_11e8_849d_3ca067dc5c7crow2_col2\" class=\"data row2 col2\" >$65,000,000</td> \n",
       "        <td id=\"T_eef26488_3b8e_11e8_849d_3ca067dc5c7crow2_col3\" class=\"data row2 col3\" >History</td> \n",
       "        <td id=\"T_eef26488_3b8e_11e8_849d_3ca067dc5c7crow2_col4\" class=\"data row2 col4\" >November</td> \n",
       "        <td id=\"T_eef26488_3b8e_11e8_849d_3ca067dc5c7crow2_col5\" class=\"data row2 col5\" >6.7</td> \n",
       "        <td id=\"T_eef26488_3b8e_11e8_849d_3ca067dc5c7crow2_col6\" class=\"data row2 col6\" >12</td> \n",
       "        <td id=\"T_eef26488_3b8e_11e8_849d_3ca067dc5c7crow2_col7\" class=\"data row2 col7\" >324%</td> \n",
       "    </tr>    <tr> \n",
       "        <th id=\"T_eef26488_3b8e_11e8_849d_3ca067dc5c7clevel0_row3\" class=\"row_heading level0 row3\" >1769</th> \n",
       "        <td id=\"T_eef26488_3b8e_11e8_849d_3ca067dc5c7crow3_col0\" class=\"data row3 col0\" >The Revenant</td> \n",
       "        <td id=\"T_eef26488_3b8e_11e8_849d_3ca067dc5c7crow3_col1\" class=\"data row3 col1\" >$532,950,503</td> \n",
       "        <td id=\"T_eef26488_3b8e_11e8_849d_3ca067dc5c7crow3_col2\" class=\"data row3 col2\" >$135,000,000</td> \n",
       "        <td id=\"T_eef26488_3b8e_11e8_849d_3ca067dc5c7crow3_col3\" class=\"data row3 col3\" >Western</td> \n",
       "        <td id=\"T_eef26488_3b8e_11e8_849d_3ca067dc5c7crow3_col4\" class=\"data row3 col4\" >December</td> \n",
       "        <td id=\"T_eef26488_3b8e_11e8_849d_3ca067dc5c7crow3_col5\" class=\"data row3 col5\" >7.3</td> \n",
       "        <td id=\"T_eef26488_3b8e_11e8_849d_3ca067dc5c7crow3_col6\" class=\"data row3 col6\" >12</td> \n",
       "        <td id=\"T_eef26488_3b8e_11e8_849d_3ca067dc5c7crow3_col7\" class=\"data row3 col7\" >295%</td> \n",
       "    </tr>    <tr> \n",
       "        <th id=\"T_eef26488_3b8e_11e8_849d_3ca067dc5c7clevel0_row4\" class=\"row_heading level0 row4\" >688</th> \n",
       "        <td id=\"T_eef26488_3b8e_11e8_849d_3ca067dc5c7crow4_col0\" class=\"data row4 col0\" >The King's Speech</td> \n",
       "        <td id=\"T_eef26488_3b8e_11e8_849d_3ca067dc5c7crow4_col1\" class=\"data row4 col1\" >$414,211,549</td> \n",
       "        <td id=\"T_eef26488_3b8e_11e8_849d_3ca067dc5c7crow4_col2\" class=\"data row4 col2\" >$15,000,000</td> \n",
       "        <td id=\"T_eef26488_3b8e_11e8_849d_3ca067dc5c7crow4_col3\" class=\"data row4 col3\" >Drama</td> \n",
       "        <td id=\"T_eef26488_3b8e_11e8_849d_3ca067dc5c7crow4_col4\" class=\"data row4 col4\" >September</td> \n",
       "        <td id=\"T_eef26488_3b8e_11e8_849d_3ca067dc5c7crow4_col5\" class=\"data row4 col5\" >7.6</td> \n",
       "        <td id=\"T_eef26488_3b8e_11e8_849d_3ca067dc5c7crow4_col6\" class=\"data row4 col6\" >12</td> \n",
       "        <td id=\"T_eef26488_3b8e_11e8_849d_3ca067dc5c7crow4_col7\" class=\"data row4 col7\" >2661%</td> \n",
       "    </tr>    <tr> \n",
       "        <th id=\"T_eef26488_3b8e_11e8_849d_3ca067dc5c7clevel0_row5\" class=\"row_heading level0 row5\" >907</th> \n",
       "        <td id=\"T_eef26488_3b8e_11e8_849d_3ca067dc5c7crow5_col0\" class=\"data row5 col0\" >Hugo</td> \n",
       "        <td id=\"T_eef26488_3b8e_11e8_849d_3ca067dc5c7crow5_col1\" class=\"data row5 col1\" >$185,770,160</td> \n",
       "        <td id=\"T_eef26488_3b8e_11e8_849d_3ca067dc5c7crow5_col2\" class=\"data row5 col2\" >$170,000,000</td> \n",
       "        <td id=\"T_eef26488_3b8e_11e8_849d_3ca067dc5c7crow5_col3\" class=\"data row5 col3\" >Adventure</td> \n",
       "        <td id=\"T_eef26488_3b8e_11e8_849d_3ca067dc5c7crow5_col4\" class=\"data row5 col4\" >November</td> \n",
       "        <td id=\"T_eef26488_3b8e_11e8_849d_3ca067dc5c7crow5_col5\" class=\"data row5 col5\" >7</td> \n",
       "        <td id=\"T_eef26488_3b8e_11e8_849d_3ca067dc5c7crow5_col6\" class=\"data row5 col6\" >11</td> \n",
       "        <td id=\"T_eef26488_3b8e_11e8_849d_3ca067dc5c7crow5_col7\" class=\"data row5 col7\" >9%</td> \n",
       "    </tr>    <tr> \n",
       "        <th id=\"T_eef26488_3b8e_11e8_849d_3ca067dc5c7clevel0_row6\" class=\"row_heading level0 row6\" >1115</th> \n",
       "        <td id=\"T_eef26488_3b8e_11e8_849d_3ca067dc5c7crow6_col0\" class=\"data row6 col0\" >Life of Pi</td> \n",
       "        <td id=\"T_eef26488_3b8e_11e8_849d_3ca067dc5c7crow6_col1\" class=\"data row6 col1\" >$609,016,565</td> \n",
       "        <td id=\"T_eef26488_3b8e_11e8_849d_3ca067dc5c7crow6_col2\" class=\"data row6 col2\" >$120,000,000</td> \n",
       "        <td id=\"T_eef26488_3b8e_11e8_849d_3ca067dc5c7crow6_col3\" class=\"data row6 col3\" >Adventure</td> \n",
       "        <td id=\"T_eef26488_3b8e_11e8_849d_3ca067dc5c7crow6_col4\" class=\"data row6 col4\" >November</td> \n",
       "        <td id=\"T_eef26488_3b8e_11e8_849d_3ca067dc5c7crow6_col5\" class=\"data row6 col5\" >7.2</td> \n",
       "        <td id=\"T_eef26488_3b8e_11e8_849d_3ca067dc5c7crow6_col6\" class=\"data row6 col6\" >11</td> \n",
       "        <td id=\"T_eef26488_3b8e_11e8_849d_3ca067dc5c7crow6_col7\" class=\"data row6 col7\" >408%</td> \n",
       "    </tr>    <tr> \n",
       "        <th id=\"T_eef26488_3b8e_11e8_849d_3ca067dc5c7clevel0_row7\" class=\"row_heading level0 row7\" >1287</th> \n",
       "        <td id=\"T_eef26488_3b8e_11e8_849d_3ca067dc5c7crow7_col0\" class=\"data row7 col0\" >Gravity</td> \n",
       "        <td id=\"T_eef26488_3b8e_11e8_849d_3ca067dc5c7crow7_col1\" class=\"data row7 col1\" >$716,392,705</td> \n",
       "        <td id=\"T_eef26488_3b8e_11e8_849d_3ca067dc5c7crow7_col2\" class=\"data row7 col2\" >$105,000,000</td> \n",
       "        <td id=\"T_eef26488_3b8e_11e8_849d_3ca067dc5c7crow7_col3\" class=\"data row7 col3\" >Science Fiction</td> \n",
       "        <td id=\"T_eef26488_3b8e_11e8_849d_3ca067dc5c7crow7_col4\" class=\"data row7 col4\" >September</td> \n",
       "        <td id=\"T_eef26488_3b8e_11e8_849d_3ca067dc5c7crow7_col5\" class=\"data row7 col5\" >7.3</td> \n",
       "        <td id=\"T_eef26488_3b8e_11e8_849d_3ca067dc5c7crow7_col6\" class=\"data row7 col6\" >10</td> \n",
       "        <td id=\"T_eef26488_3b8e_11e8_849d_3ca067dc5c7crow7_col7\" class=\"data row7 col7\" >582%</td> \n",
       "    </tr>    <tr> \n",
       "        <th id=\"T_eef26488_3b8e_11e8_849d_3ca067dc5c7clevel0_row8\" class=\"row_heading level0 row8\" >1601</th> \n",
       "        <td id=\"T_eef26488_3b8e_11e8_849d_3ca067dc5c7crow8_col0\" class=\"data row8 col0\" >Mad Max: Fury Road</td> \n",
       "        <td id=\"T_eef26488_3b8e_11e8_849d_3ca067dc5c7crow8_col1\" class=\"data row8 col1\" >$378,858,340</td> \n",
       "        <td id=\"T_eef26488_3b8e_11e8_849d_3ca067dc5c7crow8_col2\" class=\"data row8 col2\" >$150,000,000</td> \n",
       "        <td id=\"T_eef26488_3b8e_11e8_849d_3ca067dc5c7crow8_col3\" class=\"data row8 col3\" >Action</td> \n",
       "        <td id=\"T_eef26488_3b8e_11e8_849d_3ca067dc5c7crow8_col4\" class=\"data row8 col4\" >May</td> \n",
       "        <td id=\"T_eef26488_3b8e_11e8_849d_3ca067dc5c7crow8_col5\" class=\"data row8 col5\" >7.3</td> \n",
       "        <td id=\"T_eef26488_3b8e_11e8_849d_3ca067dc5c7crow8_col6\" class=\"data row8 col6\" >10</td> \n",
       "        <td id=\"T_eef26488_3b8e_11e8_849d_3ca067dc5c7crow8_col7\" class=\"data row8 col7\" >153%</td> \n",
       "    </tr>    <tr> \n",
       "        <th id=\"T_eef26488_3b8e_11e8_849d_3ca067dc5c7clevel0_row9\" class=\"row_heading level0 row9\" >879</th> \n",
       "        <td id=\"T_eef26488_3b8e_11e8_849d_3ca067dc5c7crow9_col0\" class=\"data row9 col0\" >The Artist</td> \n",
       "        <td id=\"T_eef26488_3b8e_11e8_849d_3ca067dc5c7crow9_col1\" class=\"data row9 col1\" >$133,432,856</td> \n",
       "        <td id=\"T_eef26488_3b8e_11e8_849d_3ca067dc5c7crow9_col2\" class=\"data row9 col2\" >$15,000,000</td> \n",
       "        <td id=\"T_eef26488_3b8e_11e8_849d_3ca067dc5c7crow9_col3\" class=\"data row9 col3\" >Drama</td> \n",
       "        <td id=\"T_eef26488_3b8e_11e8_849d_3ca067dc5c7crow9_col4\" class=\"data row9 col4\" >May</td> \n",
       "        <td id=\"T_eef26488_3b8e_11e8_849d_3ca067dc5c7crow9_col5\" class=\"data row9 col5\" >7.3</td> \n",
       "        <td id=\"T_eef26488_3b8e_11e8_849d_3ca067dc5c7crow9_col6\" class=\"data row9 col6\" >10</td> \n",
       "        <td id=\"T_eef26488_3b8e_11e8_849d_3ca067dc5c7crow9_col7\" class=\"data row9 col7\" >790%</td> \n",
       "    </tr></tbody> \n",
       "</table> "
      ],
      "text/plain": [
       "<pandas.io.formats.style.Styler at 0x2208e240b70>"
      ]
     },
     "execution_count": 8,
     "metadata": {},
     "output_type": "execute_result"
    }
   ],
   "source": [
    "byawd = movdat_df.sort_values(['award_noms'], ascending=False).head(10)\n",
    "byawd.style.format({'revenue': \"${:,.0f}\", 'budget': '${:,.0f}', 'roi': '{:.0%}'})"
   ]
  },
  {
   "cell_type": "markdown",
   "metadata": {},
   "source": [
    "# Top 10 Movies by Return on Investment (ROI)"
   ]
  },
  {
   "cell_type": "code",
   "execution_count": 9,
   "metadata": {},
   "outputs": [
    {
     "data": {
      "text/html": [
       "<style  type=\"text/css\" >\n",
       "</style>  \n",
       "<table id=\"T_0100deb8_3b8f_11e8_9c1d_3ca067dc5c7c\" > \n",
       "<thead>    <tr> \n",
       "        <th class=\"blank level0\" ></th> \n",
       "        <th class=\"col_heading level0 col0\" >title</th> \n",
       "        <th class=\"col_heading level0 col1\" >revenue</th> \n",
       "        <th class=\"col_heading level0 col2\" >budget</th> \n",
       "        <th class=\"col_heading level0 col3\" >genres</th> \n",
       "        <th class=\"col_heading level0 col4\" >release_month</th> \n",
       "        <th class=\"col_heading level0 col5\" >vote_average</th> \n",
       "        <th class=\"col_heading level0 col6\" >award_noms</th> \n",
       "        <th class=\"col_heading level0 col7\" >roi</th> \n",
       "    </tr></thead> \n",
       "<tbody>    <tr> \n",
       "        <th id=\"T_0100deb8_3b8f_11e8_9c1d_3ca067dc5c7clevel0_row0\" class=\"row_heading level0 row0\" >734</th> \n",
       "        <td id=\"T_0100deb8_3b8f_11e8_9c1d_3ca067dc5c7crow0_col0\" class=\"data row0 col0\" >From Prada to Nada</td> \n",
       "        <td id=\"T_0100deb8_3b8f_11e8_9c1d_3ca067dc5c7crow0_col1\" class=\"data row0 col1\" >$2,500,000</td> \n",
       "        <td id=\"T_0100deb8_3b8f_11e8_9c1d_3ca067dc5c7crow0_col2\" class=\"data row0 col2\" >$93</td> \n",
       "        <td id=\"T_0100deb8_3b8f_11e8_9c1d_3ca067dc5c7crow0_col3\" class=\"data row0 col3\" >Comedy</td> \n",
       "        <td id=\"T_0100deb8_3b8f_11e8_9c1d_3ca067dc5c7crow0_col4\" class=\"data row0 col4\" >January</td> \n",
       "        <td id=\"T_0100deb8_3b8f_11e8_9c1d_3ca067dc5c7crow0_col5\" class=\"data row0 col5\" >5</td> \n",
       "        <td id=\"T_0100deb8_3b8f_11e8_9c1d_3ca067dc5c7crow0_col6\" class=\"data row0 col6\" >0</td> \n",
       "        <td id=\"T_0100deb8_3b8f_11e8_9c1d_3ca067dc5c7crow0_col7\" class=\"data row0 col7\" >2688072%</td> \n",
       "    </tr>    <tr> \n",
       "        <th id=\"T_0100deb8_3b8f_11e8_9c1d_3ca067dc5c7clevel0_row1\" class=\"row_heading level0 row1\" >451</th> \n",
       "        <td id=\"T_0100deb8_3b8f_11e8_9c1d_3ca067dc5c7crow1_col0\" class=\"data row1 col0\" >Paranormal Activity</td> \n",
       "        <td id=\"T_0100deb8_3b8f_11e8_9c1d_3ca067dc5c7crow1_col1\" class=\"data row1 col1\" >$193,355,800</td> \n",
       "        <td id=\"T_0100deb8_3b8f_11e8_9c1d_3ca067dc5c7crow1_col2\" class=\"data row1 col2\" >$15,000</td> \n",
       "        <td id=\"T_0100deb8_3b8f_11e8_9c1d_3ca067dc5c7crow1_col3\" class=\"data row1 col3\" >Horror</td> \n",
       "        <td id=\"T_0100deb8_3b8f_11e8_9c1d_3ca067dc5c7crow1_col4\" class=\"data row1 col4\" >September</td> \n",
       "        <td id=\"T_0100deb8_3b8f_11e8_9c1d_3ca067dc5c7crow1_col5\" class=\"data row1 col5\" >5.9</td> \n",
       "        <td id=\"T_0100deb8_3b8f_11e8_9c1d_3ca067dc5c7crow1_col6\" class=\"data row1 col6\" >0</td> \n",
       "        <td id=\"T_0100deb8_3b8f_11e8_9c1d_3ca067dc5c7crow1_col7\" class=\"data row1 col7\" >1288939%</td> \n",
       "    </tr>    <tr> \n",
       "        <th id=\"T_0100deb8_3b8f_11e8_9c1d_3ca067dc5c7clevel0_row2\" class=\"row_heading level0 row2\" >2100</th> \n",
       "        <td id=\"T_0100deb8_3b8f_11e8_9c1d_3ca067dc5c7crow2_col0\" class=\"data row2 col0\" >The Tiger: An Old Hunter's Tale</td> \n",
       "        <td id=\"T_0100deb8_3b8f_11e8_9c1d_3ca067dc5c7crow2_col1\" class=\"data row2 col1\" >$11,083,449</td> \n",
       "        <td id=\"T_0100deb8_3b8f_11e8_9c1d_3ca067dc5c7crow2_col2\" class=\"data row2 col2\" >$5,000</td> \n",
       "        <td id=\"T_0100deb8_3b8f_11e8_9c1d_3ca067dc5c7crow2_col3\" class=\"data row2 col3\" >Action</td> \n",
       "        <td id=\"T_0100deb8_3b8f_11e8_9c1d_3ca067dc5c7crow2_col4\" class=\"data row2 col4\" >December</td> \n",
       "        <td id=\"T_0100deb8_3b8f_11e8_9c1d_3ca067dc5c7crow2_col5\" class=\"data row2 col5\" >7.5</td> \n",
       "        <td id=\"T_0100deb8_3b8f_11e8_9c1d_3ca067dc5c7crow2_col6\" class=\"data row2 col6\" >0</td> \n",
       "        <td id=\"T_0100deb8_3b8f_11e8_9c1d_3ca067dc5c7crow2_col7\" class=\"data row2 col7\" >221569%</td> \n",
       "    </tr>    <tr> \n",
       "        <th id=\"T_0100deb8_3b8f_11e8_9c1d_3ca067dc5c7clevel0_row3\" class=\"row_heading level0 row3\" >1764</th> \n",
       "        <td id=\"T_0100deb8_3b8f_11e8_9c1d_3ca067dc5c7crow3_col0\" class=\"data row3 col0\" >The Gallows</td> \n",
       "        <td id=\"T_0100deb8_3b8f_11e8_9c1d_3ca067dc5c7crow3_col1\" class=\"data row3 col1\" >$42,664,410</td> \n",
       "        <td id=\"T_0100deb8_3b8f_11e8_9c1d_3ca067dc5c7crow3_col2\" class=\"data row3 col2\" >$100,000</td> \n",
       "        <td id=\"T_0100deb8_3b8f_11e8_9c1d_3ca067dc5c7crow3_col3\" class=\"data row3 col3\" >Horror</td> \n",
       "        <td id=\"T_0100deb8_3b8f_11e8_9c1d_3ca067dc5c7crow3_col4\" class=\"data row3 col4\" >July</td> \n",
       "        <td id=\"T_0100deb8_3b8f_11e8_9c1d_3ca067dc5c7crow3_col5\" class=\"data row3 col5\" >4.9</td> \n",
       "        <td id=\"T_0100deb8_3b8f_11e8_9c1d_3ca067dc5c7crow3_col6\" class=\"data row3 col6\" >0</td> \n",
       "        <td id=\"T_0100deb8_3b8f_11e8_9c1d_3ca067dc5c7crow3_col7\" class=\"data row3 col7\" >42564%</td> \n",
       "    </tr>    <tr> \n",
       "        <th id=\"T_0100deb8_3b8f_11e8_9c1d_3ca067dc5c7clevel0_row4\" class=\"row_heading level0 row4\" >2157</th> \n",
       "        <td id=\"T_0100deb8_3b8f_11e8_9c1d_3ca067dc5c7crow4_col0\" class=\"data row4 col0\" >A Ghost Story</td> \n",
       "        <td id=\"T_0100deb8_3b8f_11e8_9c1d_3ca067dc5c7crow4_col1\" class=\"data row4 col1\" >$15,584,255</td> \n",
       "        <td id=\"T_0100deb8_3b8f_11e8_9c1d_3ca067dc5c7crow4_col2\" class=\"data row4 col2\" >$100,000</td> \n",
       "        <td id=\"T_0100deb8_3b8f_11e8_9c1d_3ca067dc5c7crow4_col3\" class=\"data row4 col3\" >Drama</td> \n",
       "        <td id=\"T_0100deb8_3b8f_11e8_9c1d_3ca067dc5c7crow4_col4\" class=\"data row4 col4\" >July</td> \n",
       "        <td id=\"T_0100deb8_3b8f_11e8_9c1d_3ca067dc5c7crow4_col5\" class=\"data row4 col5\" >6.8</td> \n",
       "        <td id=\"T_0100deb8_3b8f_11e8_9c1d_3ca067dc5c7crow4_col6\" class=\"data row4 col6\" >0</td> \n",
       "        <td id=\"T_0100deb8_3b8f_11e8_9c1d_3ca067dc5c7crow4_col7\" class=\"data row4 col7\" >15484%</td> \n",
       "    </tr>    <tr> \n",
       "        <th id=\"T_0100deb8_3b8f_11e8_9c1d_3ca067dc5c7clevel0_row5\" class=\"row_heading level0 row5\" >44</th> \n",
       "        <td id=\"T_0100deb8_3b8f_11e8_9c1d_3ca067dc5c7crow5_col0\" class=\"data row5 col0\" >Once</td> \n",
       "        <td id=\"T_0100deb8_3b8f_11e8_9c1d_3ca067dc5c7crow5_col1\" class=\"data row5 col1\" >$20,710,513</td> \n",
       "        <td id=\"T_0100deb8_3b8f_11e8_9c1d_3ca067dc5c7crow5_col2\" class=\"data row5 col2\" >$160,000</td> \n",
       "        <td id=\"T_0100deb8_3b8f_11e8_9c1d_3ca067dc5c7crow5_col3\" class=\"data row5 col3\" >Drama</td> \n",
       "        <td id=\"T_0100deb8_3b8f_11e8_9c1d_3ca067dc5c7crow5_col4\" class=\"data row5 col4\" >March</td> \n",
       "        <td id=\"T_0100deb8_3b8f_11e8_9c1d_3ca067dc5c7crow5_col5\" class=\"data row5 col5\" >7.4</td> \n",
       "        <td id=\"T_0100deb8_3b8f_11e8_9c1d_3ca067dc5c7crow5_col6\" class=\"data row5 col6\" >1</td> \n",
       "        <td id=\"T_0100deb8_3b8f_11e8_9c1d_3ca067dc5c7crow5_col7\" class=\"data row5 col7\" >12844%</td> \n",
       "    </tr>    <tr> \n",
       "        <th id=\"T_0100deb8_3b8f_11e8_9c1d_3ca067dc5c7clevel0_row6\" class=\"row_heading level0 row6\" >952</th> \n",
       "        <td id=\"T_0100deb8_3b8f_11e8_9c1d_3ca067dc5c7crow6_col0\" class=\"data row6 col0\" >The Devil Inside</td> \n",
       "        <td id=\"T_0100deb8_3b8f_11e8_9c1d_3ca067dc5c7crow6_col1\" class=\"data row6 col1\" >$101,758,490</td> \n",
       "        <td id=\"T_0100deb8_3b8f_11e8_9c1d_3ca067dc5c7crow6_col2\" class=\"data row6 col2\" >$1,000,000</td> \n",
       "        <td id=\"T_0100deb8_3b8f_11e8_9c1d_3ca067dc5c7crow6_col3\" class=\"data row6 col3\" >Thriller</td> \n",
       "        <td id=\"T_0100deb8_3b8f_11e8_9c1d_3ca067dc5c7crow6_col4\" class=\"data row6 col4\" >January</td> \n",
       "        <td id=\"T_0100deb8_3b8f_11e8_9c1d_3ca067dc5c7crow6_col5\" class=\"data row6 col5\" >4.6</td> \n",
       "        <td id=\"T_0100deb8_3b8f_11e8_9c1d_3ca067dc5c7crow6_col6\" class=\"data row6 col6\" >0</td> \n",
       "        <td id=\"T_0100deb8_3b8f_11e8_9c1d_3ca067dc5c7crow6_col7\" class=\"data row6 col7\" >10076%</td> \n",
       "    </tr>    <tr> \n",
       "        <th id=\"T_0100deb8_3b8f_11e8_9c1d_3ca067dc5c7clevel0_row7\" class=\"row_heading level0 row7\" >657</th> \n",
       "        <td id=\"T_0100deb8_3b8f_11e8_9c1d_3ca067dc5c7crow7_col0\" class=\"data row7 col0\" >Catfish</td> \n",
       "        <td id=\"T_0100deb8_3b8f_11e8_9c1d_3ca067dc5c7crow7_col1\" class=\"data row7 col1\" >$3,045,943</td> \n",
       "        <td id=\"T_0100deb8_3b8f_11e8_9c1d_3ca067dc5c7crow7_col2\" class=\"data row7 col2\" >$30,000</td> \n",
       "        <td id=\"T_0100deb8_3b8f_11e8_9c1d_3ca067dc5c7crow7_col3\" class=\"data row7 col3\" >Documentary</td> \n",
       "        <td id=\"T_0100deb8_3b8f_11e8_9c1d_3ca067dc5c7crow7_col4\" class=\"data row7 col4\" >September</td> \n",
       "        <td id=\"T_0100deb8_3b8f_11e8_9c1d_3ca067dc5c7crow7_col5\" class=\"data row7 col5\" >6.5</td> \n",
       "        <td id=\"T_0100deb8_3b8f_11e8_9c1d_3ca067dc5c7crow7_col6\" class=\"data row7 col6\" >0</td> \n",
       "        <td id=\"T_0100deb8_3b8f_11e8_9c1d_3ca067dc5c7crow7_col7\" class=\"data row7 col7\" >10053%</td> \n",
       "    </tr>    <tr> \n",
       "        <th id=\"T_0100deb8_3b8f_11e8_9c1d_3ca067dc5c7clevel0_row8\" class=\"row_heading level0 row8\" >1260</th> \n",
       "        <td id=\"T_0100deb8_3b8f_11e8_9c1d_3ca067dc5c7crow8_col0\" class=\"data row8 col0\" >Lost in Thailand</td> \n",
       "        <td id=\"T_0100deb8_3b8f_11e8_9c1d_3ca067dc5c7crow8_col1\" class=\"data row8 col1\" >$208,000,000</td> \n",
       "        <td id=\"T_0100deb8_3b8f_11e8_9c1d_3ca067dc5c7crow8_col2\" class=\"data row8 col2\" >$2,200,000</td> \n",
       "        <td id=\"T_0100deb8_3b8f_11e8_9c1d_3ca067dc5c7crow8_col3\" class=\"data row8 col3\" >Comedy</td> \n",
       "        <td id=\"T_0100deb8_3b8f_11e8_9c1d_3ca067dc5c7crow8_col4\" class=\"data row8 col4\" >December</td> \n",
       "        <td id=\"T_0100deb8_3b8f_11e8_9c1d_3ca067dc5c7crow8_col5\" class=\"data row8 col5\" >6.1</td> \n",
       "        <td id=\"T_0100deb8_3b8f_11e8_9c1d_3ca067dc5c7crow8_col6\" class=\"data row8 col6\" >0</td> \n",
       "        <td id=\"T_0100deb8_3b8f_11e8_9c1d_3ca067dc5c7crow8_col7\" class=\"data row8 col7\" >9355%</td> \n",
       "    </tr>    <tr> \n",
       "        <th id=\"T_0100deb8_3b8f_11e8_9c1d_3ca067dc5c7clevel0_row9\" class=\"row_heading level0 row9\" >1406</th> \n",
       "        <td id=\"T_0100deb8_3b8f_11e8_9c1d_3ca067dc5c7crow9_col0\" class=\"data row9 col0\" >The Quiet Ones</td> \n",
       "        <td id=\"T_0100deb8_3b8f_11e8_9c1d_3ca067dc5c7crow9_col1\" class=\"data row9 col1\" >$17,834,867</td> \n",
       "        <td id=\"T_0100deb8_3b8f_11e8_9c1d_3ca067dc5c7crow9_col2\" class=\"data row9 col2\" >$200,000</td> \n",
       "        <td id=\"T_0100deb8_3b8f_11e8_9c1d_3ca067dc5c7crow9_col3\" class=\"data row9 col3\" >Horror</td> \n",
       "        <td id=\"T_0100deb8_3b8f_11e8_9c1d_3ca067dc5c7crow9_col4\" class=\"data row9 col4\" >April</td> \n",
       "        <td id=\"T_0100deb8_3b8f_11e8_9c1d_3ca067dc5c7crow9_col5\" class=\"data row9 col5\" >5.1</td> \n",
       "        <td id=\"T_0100deb8_3b8f_11e8_9c1d_3ca067dc5c7crow9_col6\" class=\"data row9 col6\" >0</td> \n",
       "        <td id=\"T_0100deb8_3b8f_11e8_9c1d_3ca067dc5c7crow9_col7\" class=\"data row9 col7\" >8817%</td> \n",
       "    </tr></tbody> \n",
       "</table> "
      ],
      "text/plain": [
       "<pandas.io.formats.style.Styler at 0x2208e2400f0>"
      ]
     },
     "execution_count": 9,
     "metadata": {},
     "output_type": "execute_result"
    }
   ],
   "source": [
    "byroi = movdat_df.sort_values(['roi'], ascending=False).head(10)\n",
    "byroi.style.format({'revenue': \"${:,.0f}\", 'budget': '${:,.0f}', 'roi': '{:.0%}'})"
   ]
  },
  {
   "cell_type": "markdown",
   "metadata": {},
   "source": [
    "# Top 10 Movies by Viewer Ratings"
   ]
  },
  {
   "cell_type": "code",
   "execution_count": 10,
   "metadata": {},
   "outputs": [
    {
     "data": {
      "text/html": [
       "<style  type=\"text/css\" >\n",
       "</style>  \n",
       "<table id=\"T_0676cc1a_3b8f_11e8_9738_3ca067dc5c7c\" > \n",
       "<thead>    <tr> \n",
       "        <th class=\"blank level0\" ></th> \n",
       "        <th class=\"col_heading level0 col0\" >title</th> \n",
       "        <th class=\"col_heading level0 col1\" >revenue</th> \n",
       "        <th class=\"col_heading level0 col2\" >budget</th> \n",
       "        <th class=\"col_heading level0 col3\" >genres</th> \n",
       "        <th class=\"col_heading level0 col4\" >release_month</th> \n",
       "        <th class=\"col_heading level0 col5\" >vote_average</th> \n",
       "        <th class=\"col_heading level0 col6\" >award_noms</th> \n",
       "        <th class=\"col_heading level0 col7\" >roi</th> \n",
       "    </tr></thead> \n",
       "<tbody>    <tr> \n",
       "        <th id=\"T_0676cc1a_3b8f_11e8_9738_3ca067dc5c7clevel0_row0\" class=\"row_heading level0 row0\" >1864</th> \n",
       "        <td id=\"T_0676cc1a_3b8f_11e8_9738_3ca067dc5c7crow0_col0\" class=\"data row0 col0\" >Katyar Kaljat Ghusali</td> \n",
       "        <td id=\"T_0676cc1a_3b8f_11e8_9738_3ca067dc5c7crow0_col1\" class=\"data row0 col1\" >$4,400,000</td> \n",
       "        <td id=\"T_0676cc1a_3b8f_11e8_9738_3ca067dc5c7crow0_col2\" class=\"data row0 col2\" >$1,500,000</td> \n",
       "        <td id=\"T_0676cc1a_3b8f_11e8_9738_3ca067dc5c7crow0_col3\" class=\"data row0 col3\" >Music</td> \n",
       "        <td id=\"T_0676cc1a_3b8f_11e8_9738_3ca067dc5c7crow0_col4\" class=\"data row0 col4\" >November</td> \n",
       "        <td id=\"T_0676cc1a_3b8f_11e8_9738_3ca067dc5c7crow0_col5\" class=\"data row0 col5\" >9</td> \n",
       "        <td id=\"T_0676cc1a_3b8f_11e8_9738_3ca067dc5c7crow0_col6\" class=\"data row0 col6\" >0</td> \n",
       "        <td id=\"T_0676cc1a_3b8f_11e8_9738_3ca067dc5c7crow0_col7\" class=\"data row0 col7\" >193%</td> \n",
       "    </tr>    <tr> \n",
       "        <th id=\"T_0676cc1a_3b8f_11e8_9738_3ca067dc5c7clevel0_row1\" class=\"row_heading level0 row1\" >1902</th> \n",
       "        <td id=\"T_0676cc1a_3b8f_11e8_9738_3ca067dc5c7crow1_col0\" class=\"data row1 col0\" >The Guide</td> \n",
       "        <td id=\"T_0676cc1a_3b8f_11e8_9738_3ca067dc5c7crow1_col1\" class=\"data row1 col1\" >$499,168</td> \n",
       "        <td id=\"T_0676cc1a_3b8f_11e8_9738_3ca067dc5c7crow1_col2\" class=\"data row1 col2\" >$722,083</td> \n",
       "        <td id=\"T_0676cc1a_3b8f_11e8_9738_3ca067dc5c7crow1_col3\" class=\"data row1 col3\" >History</td> \n",
       "        <td id=\"T_0676cc1a_3b8f_11e8_9738_3ca067dc5c7crow1_col4\" class=\"data row1 col4\" >November</td> \n",
       "        <td id=\"T_0676cc1a_3b8f_11e8_9738_3ca067dc5c7crow1_col5\" class=\"data row1 col5\" >8.6</td> \n",
       "        <td id=\"T_0676cc1a_3b8f_11e8_9738_3ca067dc5c7crow1_col6\" class=\"data row1 col6\" >0</td> \n",
       "        <td id=\"T_0676cc1a_3b8f_11e8_9738_3ca067dc5c7crow1_col7\" class=\"data row1 col7\" >-31%</td> \n",
       "    </tr>    <tr> \n",
       "        <th id=\"T_0676cc1a_3b8f_11e8_9738_3ca067dc5c7clevel0_row2\" class=\"row_heading level0 row2\" >1460</th> \n",
       "        <td id=\"T_0676cc1a_3b8f_11e8_9738_3ca067dc5c7crow2_col0\" class=\"data row2 col0\" >Whiplash</td> \n",
       "        <td id=\"T_0676cc1a_3b8f_11e8_9738_3ca067dc5c7crow2_col1\" class=\"data row2 col1\" >$13,092,000</td> \n",
       "        <td id=\"T_0676cc1a_3b8f_11e8_9738_3ca067dc5c7crow2_col2\" class=\"data row2 col2\" >$3,300,000</td> \n",
       "        <td id=\"T_0676cc1a_3b8f_11e8_9738_3ca067dc5c7crow2_col3\" class=\"data row2 col3\" >Drama</td> \n",
       "        <td id=\"T_0676cc1a_3b8f_11e8_9738_3ca067dc5c7crow2_col4\" class=\"data row2 col4\" >October</td> \n",
       "        <td id=\"T_0676cc1a_3b8f_11e8_9738_3ca067dc5c7crow2_col5\" class=\"data row2 col5\" >8.3</td> \n",
       "        <td id=\"T_0676cc1a_3b8f_11e8_9738_3ca067dc5c7crow2_col6\" class=\"data row2 col6\" >5</td> \n",
       "        <td id=\"T_0676cc1a_3b8f_11e8_9738_3ca067dc5c7crow2_col7\" class=\"data row2 col7\" >297%</td> \n",
       "    </tr>    <tr> \n",
       "        <th id=\"T_0676cc1a_3b8f_11e8_9738_3ca067dc5c7clevel0_row3\" class=\"row_heading level0 row3\" >183</th> \n",
       "        <td id=\"T_0676cc1a_3b8f_11e8_9738_3ca067dc5c7crow3_col0\" class=\"data row3 col0\" >The Dark Knight</td> \n",
       "        <td id=\"T_0676cc1a_3b8f_11e8_9738_3ca067dc5c7crow3_col1\" class=\"data row3 col1\" >$1,004,558,444</td> \n",
       "        <td id=\"T_0676cc1a_3b8f_11e8_9738_3ca067dc5c7crow3_col2\" class=\"data row3 col2\" >$185,000,000</td> \n",
       "        <td id=\"T_0676cc1a_3b8f_11e8_9738_3ca067dc5c7crow3_col3\" class=\"data row3 col3\" >Drama</td> \n",
       "        <td id=\"T_0676cc1a_3b8f_11e8_9738_3ca067dc5c7crow3_col4\" class=\"data row3 col4\" >July</td> \n",
       "        <td id=\"T_0676cc1a_3b8f_11e8_9738_3ca067dc5c7crow3_col5\" class=\"data row3 col5\" >8.3</td> \n",
       "        <td id=\"T_0676cc1a_3b8f_11e8_9738_3ca067dc5c7crow3_col6\" class=\"data row3 col6\" >8</td> \n",
       "        <td id=\"T_0676cc1a_3b8f_11e8_9738_3ca067dc5c7crow3_col7\" class=\"data row3 col7\" >443%</td> \n",
       "    </tr>    <tr> \n",
       "        <th id=\"T_0676cc1a_3b8f_11e8_9738_3ca067dc5c7clevel0_row4\" class=\"row_heading level0 row4\" >1570</th> \n",
       "        <td id=\"T_0676cc1a_3b8f_11e8_9738_3ca067dc5c7crow4_col0\" class=\"data row4 col0\" >Mommy</td> \n",
       "        <td id=\"T_0676cc1a_3b8f_11e8_9738_3ca067dc5c7crow4_col1\" class=\"data row4 col1\" >$3,494,070</td> \n",
       "        <td id=\"T_0676cc1a_3b8f_11e8_9738_3ca067dc5c7crow4_col2\" class=\"data row4 col2\" >$4,900,000</td> \n",
       "        <td id=\"T_0676cc1a_3b8f_11e8_9738_3ca067dc5c7crow4_col3\" class=\"data row4 col3\" >Drama</td> \n",
       "        <td id=\"T_0676cc1a_3b8f_11e8_9738_3ca067dc5c7crow4_col4\" class=\"data row4 col4\" >May</td> \n",
       "        <td id=\"T_0676cc1a_3b8f_11e8_9738_3ca067dc5c7crow4_col5\" class=\"data row4 col5\" >8.2</td> \n",
       "        <td id=\"T_0676cc1a_3b8f_11e8_9738_3ca067dc5c7crow4_col6\" class=\"data row4 col6\" >0</td> \n",
       "        <td id=\"T_0676cc1a_3b8f_11e8_9738_3ca067dc5c7crow4_col7\" class=\"data row4 col7\" >-29%</td> \n",
       "    </tr>    <tr> \n",
       "        <th id=\"T_0676cc1a_3b8f_11e8_9738_3ca067dc5c7clevel0_row5\" class=\"row_heading level0 row5\" >965</th> \n",
       "        <td id=\"T_0676cc1a_3b8f_11e8_9738_3ca067dc5c7crow5_col0\" class=\"data row5 col0\" >The Intouchables</td> \n",
       "        <td id=\"T_0676cc1a_3b8f_11e8_9738_3ca067dc5c7crow5_col1\" class=\"data row5 col1\" >$426,480,871</td> \n",
       "        <td id=\"T_0676cc1a_3b8f_11e8_9738_3ca067dc5c7crow5_col2\" class=\"data row5 col2\" >$13,000,000</td> \n",
       "        <td id=\"T_0676cc1a_3b8f_11e8_9738_3ca067dc5c7crow5_col3\" class=\"data row5 col3\" >Drama</td> \n",
       "        <td id=\"T_0676cc1a_3b8f_11e8_9738_3ca067dc5c7crow5_col4\" class=\"data row5 col4\" >November</td> \n",
       "        <td id=\"T_0676cc1a_3b8f_11e8_9738_3ca067dc5c7crow5_col5\" class=\"data row5 col5\" >8.2</td> \n",
       "        <td id=\"T_0676cc1a_3b8f_11e8_9738_3ca067dc5c7crow5_col6\" class=\"data row5 col6\" >0</td> \n",
       "        <td id=\"T_0676cc1a_3b8f_11e8_9738_3ca067dc5c7crow5_col7\" class=\"data row5 col7\" >3181%</td> \n",
       "    </tr>    <tr> \n",
       "        <th id=\"T_0676cc1a_3b8f_11e8_9738_3ca067dc5c7clevel0_row6\" class=\"row_heading level0 row6\" >1585</th> \n",
       "        <td id=\"T_0676cc1a_3b8f_11e8_9738_3ca067dc5c7crow6_col0\" class=\"data row6 col0\" >Drishyam</td> \n",
       "        <td id=\"T_0676cc1a_3b8f_11e8_9738_3ca067dc5c7crow6_col1\" class=\"data row6 col1\" >$12,000,000</td> \n",
       "        <td id=\"T_0676cc1a_3b8f_11e8_9738_3ca067dc5c7crow6_col2\" class=\"data row6 col2\" >$750,000</td> \n",
       "        <td id=\"T_0676cc1a_3b8f_11e8_9738_3ca067dc5c7crow6_col3\" class=\"data row6 col3\" >Crime</td> \n",
       "        <td id=\"T_0676cc1a_3b8f_11e8_9738_3ca067dc5c7crow6_col4\" class=\"data row6 col4\" >December</td> \n",
       "        <td id=\"T_0676cc1a_3b8f_11e8_9738_3ca067dc5c7crow6_col5\" class=\"data row6 col5\" >8.1</td> \n",
       "        <td id=\"T_0676cc1a_3b8f_11e8_9738_3ca067dc5c7crow6_col6\" class=\"data row6 col6\" >0</td> \n",
       "        <td id=\"T_0676cc1a_3b8f_11e8_9738_3ca067dc5c7crow6_col7\" class=\"data row6 col7\" >1500%</td> \n",
       "    </tr>    <tr> \n",
       "        <th id=\"T_0676cc1a_3b8f_11e8_9738_3ca067dc5c7clevel0_row7\" class=\"row_heading level0 row7\" >1989</th> \n",
       "        <td id=\"T_0676cc1a_3b8f_11e8_9738_3ca067dc5c7crow7_col0\" class=\"data row7 col0\" >The Handmaiden</td> \n",
       "        <td id=\"T_0676cc1a_3b8f_11e8_9738_3ca067dc5c7crow7_col1\" class=\"data row7 col1\" >$1,983,204</td> \n",
       "        <td id=\"T_0676cc1a_3b8f_11e8_9738_3ca067dc5c7crow7_col2\" class=\"data row7 col2\" >$8,575,000</td> \n",
       "        <td id=\"T_0676cc1a_3b8f_11e8_9738_3ca067dc5c7crow7_col3\" class=\"data row7 col3\" >Thriller</td> \n",
       "        <td id=\"T_0676cc1a_3b8f_11e8_9738_3ca067dc5c7crow7_col4\" class=\"data row7 col4\" >June</td> \n",
       "        <td id=\"T_0676cc1a_3b8f_11e8_9738_3ca067dc5c7crow7_col5\" class=\"data row7 col5\" >8.1</td> \n",
       "        <td id=\"T_0676cc1a_3b8f_11e8_9738_3ca067dc5c7crow7_col6\" class=\"data row7 col6\" >0</td> \n",
       "        <td id=\"T_0676cc1a_3b8f_11e8_9738_3ca067dc5c7crow7_col7\" class=\"data row7 col7\" >-77%</td> \n",
       "    </tr>    <tr> \n",
       "        <th id=\"T_0676cc1a_3b8f_11e8_9738_3ca067dc5c7clevel0_row8\" class=\"row_heading level0 row8\" >1779</th> \n",
       "        <td id=\"T_0676cc1a_3b8f_11e8_9738_3ca067dc5c7crow8_col0\" class=\"data row8 col0\" >Room</td> \n",
       "        <td id=\"T_0676cc1a_3b8f_11e8_9738_3ca067dc5c7crow8_col1\" class=\"data row8 col1\" >$35,401,758</td> \n",
       "        <td id=\"T_0676cc1a_3b8f_11e8_9738_3ca067dc5c7crow8_col2\" class=\"data row8 col2\" >$6,000,000</td> \n",
       "        <td id=\"T_0676cc1a_3b8f_11e8_9738_3ca067dc5c7crow8_col3\" class=\"data row8 col3\" >Drama</td> \n",
       "        <td id=\"T_0676cc1a_3b8f_11e8_9738_3ca067dc5c7crow8_col4\" class=\"data row8 col4\" >October</td> \n",
       "        <td id=\"T_0676cc1a_3b8f_11e8_9738_3ca067dc5c7crow8_col5\" class=\"data row8 col5\" >8.1</td> \n",
       "        <td id=\"T_0676cc1a_3b8f_11e8_9738_3ca067dc5c7crow8_col6\" class=\"data row8 col6\" >4</td> \n",
       "        <td id=\"T_0676cc1a_3b8f_11e8_9738_3ca067dc5c7crow8_col7\" class=\"data row8 col7\" >490%</td> \n",
       "    </tr>    <tr> \n",
       "        <th id=\"T_0676cc1a_3b8f_11e8_9738_3ca067dc5c7clevel0_row9\" class=\"row_heading level0 row9\" >977</th> \n",
       "        <td id=\"T_0676cc1a_3b8f_11e8_9738_3ca067dc5c7crow9_col0\" class=\"data row9 col0\" >Louis C.K.: Live at the Beacon Theater</td> \n",
       "        <td id=\"T_0676cc1a_3b8f_11e8_9738_3ca067dc5c7crow9_col1\" class=\"data row9 col1\" >$1,000,000</td> \n",
       "        <td id=\"T_0676cc1a_3b8f_11e8_9738_3ca067dc5c7crow9_col2\" class=\"data row9 col2\" >$250,000</td> \n",
       "        <td id=\"T_0676cc1a_3b8f_11e8_9738_3ca067dc5c7crow9_col3\" class=\"data row9 col3\" >Comedy</td> \n",
       "        <td id=\"T_0676cc1a_3b8f_11e8_9738_3ca067dc5c7crow9_col4\" class=\"data row9 col4\" >December</td> \n",
       "        <td id=\"T_0676cc1a_3b8f_11e8_9738_3ca067dc5c7crow9_col5\" class=\"data row9 col5\" >8.1</td> \n",
       "        <td id=\"T_0676cc1a_3b8f_11e8_9738_3ca067dc5c7crow9_col6\" class=\"data row9 col6\" >0</td> \n",
       "        <td id=\"T_0676cc1a_3b8f_11e8_9738_3ca067dc5c7crow9_col7\" class=\"data row9 col7\" >300%</td> \n",
       "    </tr></tbody> \n",
       "</table> "
      ],
      "text/plain": [
       "<pandas.io.formats.style.Styler at 0x2208e2404a8>"
      ]
     },
     "execution_count": 10,
     "metadata": {},
     "output_type": "execute_result"
    }
   ],
   "source": [
    "byvot = movdat_df.sort_values(['vote_average'], ascending=False).head(10)\n",
    "byvot.style.format({'revenue': \"${:,.0f}\", 'budget': '${:,.0f}', 'roi': '{:.0%}'})"
   ]
  },
  {
   "cell_type": "code",
   "execution_count": 15,
   "metadata": {},
   "outputs": [
    {
     "data": {
      "text/html": [
       "<div>\n",
       "<style scoped>\n",
       "    .dataframe tbody tr th:only-of-type {\n",
       "        vertical-align: middle;\n",
       "    }\n",
       "\n",
       "    .dataframe tbody tr th {\n",
       "        vertical-align: top;\n",
       "    }\n",
       "\n",
       "    .dataframe thead th {\n",
       "        text-align: right;\n",
       "    }\n",
       "</style>\n",
       "<table border=\"1\" class=\"dataframe\">\n",
       "  <thead>\n",
       "    <tr style=\"text-align: right;\">\n",
       "      <th></th>\n",
       "      <th>title</th>\n",
       "      <th>revenue</th>\n",
       "      <th>budget</th>\n",
       "      <th>genres</th>\n",
       "      <th>release_month</th>\n",
       "      <th>vote_average</th>\n",
       "      <th>award_noms</th>\n",
       "      <th>roi</th>\n",
       "    </tr>\n",
       "  </thead>\n",
       "  <tbody>\n",
       "    <tr>\n",
       "      <th>0</th>\n",
       "      <td>Camille Claudel 1915</td>\n",
       "      <td>115860</td>\n",
       "      <td>3512454</td>\n",
       "      <td>Drama</td>\n",
       "      <td>March</td>\n",
       "      <td>7.0</td>\n",
       "      <td>0</td>\n",
       "      <td>-0.967015</td>\n",
       "    </tr>\n",
       "    <tr>\n",
       "      <th>4</th>\n",
       "      <td>Stomp the Yard</td>\n",
       "      <td>75511123</td>\n",
       "      <td>13000000</td>\n",
       "      <td>Drama</td>\n",
       "      <td>May</td>\n",
       "      <td>6.1</td>\n",
       "      <td>0</td>\n",
       "      <td>4.808548</td>\n",
       "    </tr>\n",
       "    <tr>\n",
       "      <th>21</th>\n",
       "      <td>Becoming Jane</td>\n",
       "      <td>37311672</td>\n",
       "      <td>16500000</td>\n",
       "      <td>Drama</td>\n",
       "      <td>March</td>\n",
       "      <td>6.9</td>\n",
       "      <td>0</td>\n",
       "      <td>1.261313</td>\n",
       "    </tr>\n",
       "    <tr>\n",
       "      <th>25</th>\n",
       "      <td>Reign Over Me</td>\n",
       "      <td>22222308</td>\n",
       "      <td>20000000</td>\n",
       "      <td>Drama</td>\n",
       "      <td>March</td>\n",
       "      <td>7.1</td>\n",
       "      <td>0</td>\n",
       "      <td>0.111115</td>\n",
       "    </tr>\n",
       "    <tr>\n",
       "      <th>44</th>\n",
       "      <td>Once</td>\n",
       "      <td>20710513</td>\n",
       "      <td>160000</td>\n",
       "      <td>Drama</td>\n",
       "      <td>March</td>\n",
       "      <td>7.4</td>\n",
       "      <td>1</td>\n",
       "      <td>128.440706</td>\n",
       "    </tr>\n",
       "  </tbody>\n",
       "</table>\n",
       "</div>"
      ],
      "text/plain": [
       "                   title   revenue    budget genres release_month  \\\n",
       "0   Camille Claudel 1915    115860   3512454  Drama         March   \n",
       "4         Stomp the Yard  75511123  13000000  Drama           May   \n",
       "21         Becoming Jane  37311672  16500000  Drama         March   \n",
       "25         Reign Over Me  22222308  20000000  Drama         March   \n",
       "44                  Once  20710513    160000  Drama         March   \n",
       "\n",
       "    vote_average  award_noms         roi  \n",
       "0            7.0           0   -0.967015  \n",
       "4            6.1           0    4.808548  \n",
       "21           6.9           0    1.261313  \n",
       "25           7.1           0    0.111115  \n",
       "44           7.4           1  128.440706  "
      ]
     },
     "execution_count": 15,
     "metadata": {},
     "output_type": "execute_result"
    }
   ],
   "source": [
    "act1 = movdat_df.query(\"release=='Drama'\")\n",
    "act1.head()"
   ]
  },
  {
   "cell_type": "code",
   "execution_count": 16,
   "metadata": {},
   "outputs": [
    {
     "data": {
      "text/html": [
       "<div>\n",
       "<style scoped>\n",
       "    .dataframe tbody tr th:only-of-type {\n",
       "        vertical-align: middle;\n",
       "    }\n",
       "\n",
       "    .dataframe tbody tr th {\n",
       "        vertical-align: top;\n",
       "    }\n",
       "\n",
       "    .dataframe thead th {\n",
       "        text-align: right;\n",
       "    }\n",
       "</style>\n",
       "<table border=\"1\" class=\"dataframe\">\n",
       "  <thead>\n",
       "    <tr style=\"text-align: right;\">\n",
       "      <th></th>\n",
       "      <th>revenue</th>\n",
       "      <th>budget</th>\n",
       "      <th>vote_average</th>\n",
       "      <th>award_noms</th>\n",
       "      <th>roi</th>\n",
       "    </tr>\n",
       "  </thead>\n",
       "  <tbody>\n",
       "    <tr>\n",
       "      <th>revenue</th>\n",
       "      <td>1.000000</td>\n",
       "      <td>0.704408</td>\n",
       "      <td>0.261886</td>\n",
       "      <td>0.360416</td>\n",
       "      <td>0.141592</td>\n",
       "    </tr>\n",
       "    <tr>\n",
       "      <th>budget</th>\n",
       "      <td>0.704408</td>\n",
       "      <td>1.000000</td>\n",
       "      <td>0.078533</td>\n",
       "      <td>0.117167</td>\n",
       "      <td>-0.085324</td>\n",
       "    </tr>\n",
       "    <tr>\n",
       "      <th>vote_average</th>\n",
       "      <td>0.261886</td>\n",
       "      <td>0.078533</td>\n",
       "      <td>1.000000</td>\n",
       "      <td>0.296729</td>\n",
       "      <td>0.175056</td>\n",
       "    </tr>\n",
       "    <tr>\n",
       "      <th>award_noms</th>\n",
       "      <td>0.360416</td>\n",
       "      <td>0.117167</td>\n",
       "      <td>0.296729</td>\n",
       "      <td>1.000000</td>\n",
       "      <td>0.123833</td>\n",
       "    </tr>\n",
       "    <tr>\n",
       "      <th>roi</th>\n",
       "      <td>0.141592</td>\n",
       "      <td>-0.085324</td>\n",
       "      <td>0.175056</td>\n",
       "      <td>0.123833</td>\n",
       "      <td>1.000000</td>\n",
       "    </tr>\n",
       "  </tbody>\n",
       "</table>\n",
       "</div>"
      ],
      "text/plain": [
       "               revenue    budget  vote_average  award_noms       roi\n",
       "revenue       1.000000  0.704408      0.261886    0.360416  0.141592\n",
       "budget        0.704408  1.000000      0.078533    0.117167 -0.085324\n",
       "vote_average  0.261886  0.078533      1.000000    0.296729  0.175056\n",
       "award_noms    0.360416  0.117167      0.296729    1.000000  0.123833\n",
       "roi           0.141592 -0.085324      0.175056    0.123833  1.000000"
      ]
     },
     "execution_count": 16,
     "metadata": {},
     "output_type": "execute_result"
    }
   ],
   "source": [
    "act1.corr()"
   ]
  },
  {
   "cell_type": "code",
   "execution_count": 17,
   "metadata": {},
   "outputs": [
    {
     "data": {
      "text/plain": [
       "<seaborn.axisgrid.JointGrid at 0x1eb53330da0>"
      ]
     },
     "execution_count": 17,
     "metadata": {},
     "output_type": "execute_result"
    },
    {
     "data": {
      "image/png": "[encoded data removed]",
      "text/plain": [
       "<matplotlib.figure.Figure at 0x1eb5315cf60>"
      ]
     },
     "metadata": {},
     "output_type": "display_data"
    }
   ],
   "source": [
    "sns.jointplot('budget','revenue',data=act1,kind=\"reg\")"
   ]
  },
  {
   "cell_type": "markdown",
   "metadata": {},
   "source": [
    "#Count of movies by genre"
   ]
  },
  {
   "cell_type": "code",
   "execution_count": 11,
   "metadata": {},
   "outputs": [
    {
     "data": {
      "text/plain": [
       "Drama              556\n",
       "Comedy             431\n",
       "Action             409\n",
       "Adventure          151\n",
       "Horror             127\n",
       "Thriller           113\n",
       "Crime               97\n",
       "Animation           78\n",
       "Romance             56\n",
       "Fantasy             51\n",
       "Science Fiction     42\n",
       "Family              29\n",
       "Mystery             28\n",
       "Documentary         23\n",
       "War                 19\n",
       "History             17\n",
       "Music                7\n",
       "Western              5\n",
       "Foreign              3\n",
       "Name: genres, dtype: int64"
      ]
     },
     "execution_count": 11,
     "metadata": {},
     "output_type": "execute_result"
    }
   ],
   "source": [
    "movdat_df['genres'].value_counts()"
   ]
  },
  {
   "cell_type": "markdown",
   "metadata": {},
   "source": [
    "#Count of movies by month of release"
   ]
  },
  {
   "cell_type": "code",
   "execution_count": 12,
   "metadata": {},
   "outputs": [
    {
     "data": {
      "text/plain": [
       "September    298\n",
       "October      214\n",
       "August       189\n",
       "December     189\n",
       "February     178\n",
       "March        176\n",
       "May          174\n",
       "July         167\n",
       "April        166\n",
       "June         164\n",
       "November     164\n",
       "January      163\n",
       "Name: release_month, dtype: int64"
      ]
     },
     "execution_count": 12,
     "metadata": {},
     "output_type": "execute_result"
    }
   ],
   "source": [
    "movdat_df['release_month'].value_counts()"
   ]
  },
  {
   "cell_type": "markdown",
   "metadata": {},
   "source": [
    "#Totals for the dataset"
   ]
  },
  {
   "cell_type": "code",
   "execution_count": 15,
   "metadata": {},
   "outputs": [
    {
     "name": "stdout",
     "output_type": "stream",
     "text": [
      "The total revenue for all movies in dataset is $257,404,723,585\n",
      "The total budget costs for all movies in dataset is $86,553,808,938\n",
      "The total number of award nominations in the dataset is 521\n"
     ]
    }
   ],
   "source": [
    "tr = g3['revenue'].sum()\n",
    "tb = g3['budget'].sum()\n",
    "tan = g3['award_noms'].sum()\n",
    "print(\"The total revenue for all movies in dataset is \" + '${0:,d}'.format(tr))\n",
    "print(\"The total budget costs for all movies in dataset is \" + '${0:,d}'.format(tb))\n",
    "print(\"The total number of award nominations in the dataset is \" + str(tan))"
   ]
  },
  {
   "cell_type": "markdown",
   "metadata": {},
   "source": [
    "# Top Genres Chart and Bar Plot"
   ]
  },
  {
   "cell_type": "code",
   "execution_count": 14,
   "metadata": {},
   "outputs": [
    {
     "data": {
      "text/html": [
       "<style  type=\"text/css\" >\n",
       "</style>  \n",
       "<table id=\"T_32f55ed4_3b8f_11e8_8a90_3ca067dc5c7c\" > \n",
       "<thead>    <tr> \n",
       "        <th class=\"blank level0\" ></th> \n",
       "        <th class=\"col_heading level0 col0\" >genres</th> \n",
       "        <th class=\"col_heading level0 col1\" >revenue</th> \n",
       "        <th class=\"col_heading level0 col2\" >budget</th> \n",
       "        <th class=\"col_heading level0 col3\" >award_noms</th> \n",
       "        <th class=\"col_heading level0 col4\" >vote_average</th> \n",
       "        <th class=\"col_heading level0 col5\" >roi</th> \n",
       "    </tr></thead> \n",
       "<tbody>    <tr> \n",
       "        <th id=\"T_32f55ed4_3b8f_11e8_8a90_3ca067dc5c7clevel0_row0\" class=\"row_heading level0 row0\" >0</th> \n",
       "        <td id=\"T_32f55ed4_3b8f_11e8_8a90_3ca067dc5c7crow0_col0\" class=\"data row0 col0\" >Action</td> \n",
       "        <td id=\"T_32f55ed4_3b8f_11e8_8a90_3ca067dc5c7crow0_col1\" class=\"data row0 col1\" >$75,043,861,342</td> \n",
       "        <td id=\"T_32f55ed4_3b8f_11e8_8a90_3ca067dc5c7crow0_col2\" class=\"data row0 col2\" >$24,686,812,673</td> \n",
       "        <td id=\"T_32f55ed4_3b8f_11e8_8a90_3ca067dc5c7crow0_col3\" class=\"data row0 col3\" >45</td> \n",
       "        <td id=\"T_32f55ed4_3b8f_11e8_8a90_3ca067dc5c7crow0_col4\" class=\"data row0 col4\" >6.1</td> \n",
       "        <td id=\"T_32f55ed4_3b8f_11e8_8a90_3ca067dc5c7crow0_col5\" class=\"data row0 col5\" >204%</td> \n",
       "    </tr>    <tr> \n",
       "        <th id=\"T_32f55ed4_3b8f_11e8_8a90_3ca067dc5c7clevel0_row1\" class=\"row_heading level0 row1\" >1</th> \n",
       "        <td id=\"T_32f55ed4_3b8f_11e8_8a90_3ca067dc5c7crow1_col0\" class=\"data row1 col0\" >Adventure</td> \n",
       "        <td id=\"T_32f55ed4_3b8f_11e8_8a90_3ca067dc5c7crow1_col1\" class=\"data row1 col1\" >$38,384,582,208</td> \n",
       "        <td id=\"T_32f55ed4_3b8f_11e8_8a90_3ca067dc5c7crow1_col2\" class=\"data row1 col2\" >$13,505,729,594</td> \n",
       "        <td id=\"T_32f55ed4_3b8f_11e8_8a90_3ca067dc5c7crow1_col3\" class=\"data row1 col3\" >32</td> \n",
       "        <td id=\"T_32f55ed4_3b8f_11e8_8a90_3ca067dc5c7crow1_col4\" class=\"data row1 col4\" >6.3</td> \n",
       "        <td id=\"T_32f55ed4_3b8f_11e8_8a90_3ca067dc5c7crow1_col5\" class=\"data row1 col5\" >184%</td> \n",
       "    </tr>    <tr> \n",
       "        <th id=\"T_32f55ed4_3b8f_11e8_8a90_3ca067dc5c7clevel0_row2\" class=\"row_heading level0 row2\" >3</th> \n",
       "        <td id=\"T_32f55ed4_3b8f_11e8_8a90_3ca067dc5c7crow2_col0\" class=\"data row2 col0\" >Comedy</td> \n",
       "        <td id=\"T_32f55ed4_3b8f_11e8_8a90_3ca067dc5c7crow2_col1\" class=\"data row2 col1\" >$30,569,734,424</td> \n",
       "        <td id=\"T_32f55ed4_3b8f_11e8_8a90_3ca067dc5c7crow2_col2\" class=\"data row2 col2\" >$10,457,845,667</td> \n",
       "        <td id=\"T_32f55ed4_3b8f_11e8_8a90_3ca067dc5c7crow2_col3\" class=\"data row2 col3\" >42</td> \n",
       "        <td id=\"T_32f55ed4_3b8f_11e8_8a90_3ca067dc5c7crow2_col4\" class=\"data row2 col4\" >6.0</td> \n",
       "        <td id=\"T_32f55ed4_3b8f_11e8_8a90_3ca067dc5c7crow2_col5\" class=\"data row2 col5\" >192%</td> \n",
       "    </tr>    <tr> \n",
       "        <th id=\"T_32f55ed4_3b8f_11e8_8a90_3ca067dc5c7clevel0_row3\" class=\"row_heading level0 row3\" >6</th> \n",
       "        <td id=\"T_32f55ed4_3b8f_11e8_8a90_3ca067dc5c7crow3_col0\" class=\"data row3 col0\" >Drama</td> \n",
       "        <td id=\"T_32f55ed4_3b8f_11e8_8a90_3ca067dc5c7crow3_col1\" class=\"data row3 col1\" >$28,356,420,918</td> \n",
       "        <td id=\"T_32f55ed4_3b8f_11e8_8a90_3ca067dc5c7crow3_col2\" class=\"data row3 col2\" >$10,693,547,761</td> \n",
       "        <td id=\"T_32f55ed4_3b8f_11e8_8a90_3ca067dc5c7crow3_col3\" class=\"data row3 col3\" >247</td> \n",
       "        <td id=\"T_32f55ed4_3b8f_11e8_8a90_3ca067dc5c7crow3_col4\" class=\"data row3 col4\" >6.5</td> \n",
       "        <td id=\"T_32f55ed4_3b8f_11e8_8a90_3ca067dc5c7crow3_col5\" class=\"data row3 col5\" >165%</td> \n",
       "    </tr>    <tr> \n",
       "        <th id=\"T_32f55ed4_3b8f_11e8_8a90_3ca067dc5c7clevel0_row4\" class=\"row_heading level0 row4\" >2</th> \n",
       "        <td id=\"T_32f55ed4_3b8f_11e8_8a90_3ca067dc5c7crow4_col0\" class=\"data row4 col0\" >Animation</td> \n",
       "        <td id=\"T_32f55ed4_3b8f_11e8_8a90_3ca067dc5c7crow4_col1\" class=\"data row4 col1\" >$24,190,848,980</td> \n",
       "        <td id=\"T_32f55ed4_3b8f_11e8_8a90_3ca067dc5c7crow4_col2\" class=\"data row4 col2\" >$6,672,784,588</td> \n",
       "        <td id=\"T_32f55ed4_3b8f_11e8_8a90_3ca067dc5c7crow4_col3\" class=\"data row4 col3\" >21</td> \n",
       "        <td id=\"T_32f55ed4_3b8f_11e8_8a90_3ca067dc5c7crow4_col4\" class=\"data row4 col4\" >6.5</td> \n",
       "        <td id=\"T_32f55ed4_3b8f_11e8_8a90_3ca067dc5c7crow4_col5\" class=\"data row4 col5\" >263%</td> \n",
       "    </tr>    <tr> \n",
       "        <th id=\"T_32f55ed4_3b8f_11e8_8a90_3ca067dc5c7clevel0_row5\" class=\"row_heading level0 row5\" >15</th> \n",
       "        <td id=\"T_32f55ed4_3b8f_11e8_8a90_3ca067dc5c7crow5_col0\" class=\"data row5 col0\" >Science Fiction</td> \n",
       "        <td id=\"T_32f55ed4_3b8f_11e8_8a90_3ca067dc5c7crow5_col1\" class=\"data row5 col1\" >$11,274,598,085</td> \n",
       "        <td id=\"T_32f55ed4_3b8f_11e8_8a90_3ca067dc5c7crow5_col2\" class=\"data row5 col2\" >$3,161,420,003</td> \n",
       "        <td id=\"T_32f55ed4_3b8f_11e8_8a90_3ca067dc5c7crow5_col3\" class=\"data row5 col3\" >14</td> \n",
       "        <td id=\"T_32f55ed4_3b8f_11e8_8a90_3ca067dc5c7crow5_col4\" class=\"data row5 col4\" >6.4</td> \n",
       "        <td id=\"T_32f55ed4_3b8f_11e8_8a90_3ca067dc5c7crow5_col5\" class=\"data row5 col5\" >257%</td> \n",
       "    </tr></tbody> \n",
       "</table> "
      ],
      "text/plain": [
       "<pandas.io.formats.style.Styler at 0x2208e5eb2e8>"
      ]
     },
     "execution_count": 14,
     "metadata": {},
     "output_type": "execute_result"
    }
   ],
   "source": [
    "g = movdat_df.groupby('genres').sum()\n",
    "g = g.drop(columns=['vote_average', 'roi'])\n",
    "groi = pd.DataFrame((g['revenue']/g['budget']-1),columns=['roi'])\n",
    "g = pd.merge(g,groi, how='outer',left_index=True,right_index=True)\n",
    "g = g.reset_index()\n",
    "g2 = movdat_df.groupby('genres').mean()\n",
    "g2 = g2.drop(columns=['budget', 'revenue','award_noms','roi'])\n",
    "g2 = g2.reset_index()\n",
    "g3 = pd.merge(g,g2)\n",
    "g3 = g3[['genres','revenue','budget','award_noms','vote_average','roi']]\n",
    "g3 = g3.sort_values(['revenue'], ascending=False)\n",
    "g4 = g3.head(6) \n",
    "g4.style.format({'revenue': \"${:,.0f}\", 'budget': '${:,.0f}', 'roi': '{:.0%}', 'vote_average': '{:.1f}'})"
   ]
  },
  {
   "cell_type": "code",
   "execution_count": 17,
   "metadata": {},
   "outputs": [
    {
     "data": {
      "image/png": "[encoded data removed]",
      "text/plain": [
       "<matplotlib.figure.Figure at 0x2208eb2f0f0>"
      ]
     },
     "metadata": {},
     "output_type": "display_data"
    }
   ],
   "source": [
    "plt.subplots(figsize=(11, 7))\n",
    "sns.set_color_codes(\"pastel\")\n",
    "sns.barplot(x=\"revenue\", y=\"genres\", data=g4,label=\"Revenue\", color=\"b\")\n",
    "sns.set_color_codes(\"muted\")\n",
    "sns.barplot(x=\"budget\", y=\"genres\", data=g4,label=\"Budget\", color=\"b\")\n",
    "plt.legend(ncol=2, loc=\"lower right\", frameon=True)\n",
    "plt.xlabel(\"Tens of Billion Dollars($)\")\n",
    "plt.title(\"Genres vs Revenue & Budget\")\n",
    "plt.savefig(\"Top Genres Bar Plot\")\n",
    "plt.show()"
   ]
  },
  {
   "cell_type": "markdown",
   "metadata": {},
   "source": [
    "# Chart by Month of Release and Bar Plot"
   ]
  },
  {
   "cell_type": "code",
   "execution_count": 18,
   "metadata": {},
   "outputs": [
    {
     "data": {
      "text/html": [
       "<style  type=\"text/css\" >\n",
       "</style>  \n",
       "<table id=\"T_5725e6e4_3b8f_11e8_9cc4_3ca067dc5c7c\" > \n",
       "<thead>    <tr> \n",
       "        <th class=\"blank level0\" ></th> \n",
       "        <th class=\"col_heading level0 col0\" >release_month</th> \n",
       "        <th class=\"col_heading level0 col1\" >revenue</th> \n",
       "        <th class=\"col_heading level0 col2\" >budget</th> \n",
       "        <th class=\"col_heading level0 col3\" >award_noms</th> \n",
       "        <th class=\"col_heading level0 col4\" >vote_average</th> \n",
       "        <th class=\"col_heading level0 col5\" >roi</th> \n",
       "    </tr></thead> \n",
       "<tbody>    <tr> \n",
       "        <th id=\"T_5725e6e4_3b8f_11e8_9cc4_3ca067dc5c7clevel0_row0\" class=\"row_heading level0 row0\" >6</th> \n",
       "        <td id=\"T_5725e6e4_3b8f_11e8_9cc4_3ca067dc5c7crow0_col0\" class=\"data row0 col0\" >June</td> \n",
       "        <td id=\"T_5725e6e4_3b8f_11e8_9cc4_3ca067dc5c7crow0_col1\" class=\"data row0 col1\" >$37,458,553,218</td> \n",
       "        <td id=\"T_5725e6e4_3b8f_11e8_9cc4_3ca067dc5c7crow0_col2\" class=\"data row0 col2\" >$10,053,027,964</td> \n",
       "        <td id=\"T_5725e6e4_3b8f_11e8_9cc4_3ca067dc5c7crow0_col3\" class=\"data row0 col3\" >20</td> \n",
       "        <td id=\"T_5725e6e4_3b8f_11e8_9cc4_3ca067dc5c7crow0_col4\" class=\"data row0 col4\" >6.3</td> \n",
       "        <td id=\"T_5725e6e4_3b8f_11e8_9cc4_3ca067dc5c7crow0_col5\" class=\"data row0 col5\" >273%</td> \n",
       "    </tr>    <tr> \n",
       "        <th id=\"T_5725e6e4_3b8f_11e8_9cc4_3ca067dc5c7clevel0_row1\" class=\"row_heading level0 row1\" >2</th> \n",
       "        <td id=\"T_5725e6e4_3b8f_11e8_9cc4_3ca067dc5c7crow1_col0\" class=\"data row1 col0\" >December</td> \n",
       "        <td id=\"T_5725e6e4_3b8f_11e8_9cc4_3ca067dc5c7crow1_col1\" class=\"data row1 col1\" >$29,682,127,801</td> \n",
       "        <td id=\"T_5725e6e4_3b8f_11e8_9cc4_3ca067dc5c7crow1_col2\" class=\"data row1 col2\" >$9,099,080,528</td> \n",
       "        <td id=\"T_5725e6e4_3b8f_11e8_9cc4_3ca067dc5c7crow1_col3\" class=\"data row1 col3\" >101</td> \n",
       "        <td id=\"T_5725e6e4_3b8f_11e8_9cc4_3ca067dc5c7crow1_col4\" class=\"data row1 col4\" >6.3</td> \n",
       "        <td id=\"T_5725e6e4_3b8f_11e8_9cc4_3ca067dc5c7crow1_col5\" class=\"data row1 col5\" >226%</td> \n",
       "    </tr>    <tr> \n",
       "        <th id=\"T_5725e6e4_3b8f_11e8_9cc4_3ca067dc5c7clevel0_row2\" class=\"row_heading level0 row2\" >0</th> \n",
       "        <td id=\"T_5725e6e4_3b8f_11e8_9cc4_3ca067dc5c7crow2_col0\" class=\"data row2 col0\" >April</td> \n",
       "        <td id=\"T_5725e6e4_3b8f_11e8_9cc4_3ca067dc5c7crow2_col1\" class=\"data row2 col1\" >$21,329,321,356</td> \n",
       "        <td id=\"T_5725e6e4_3b8f_11e8_9cc4_3ca067dc5c7crow2_col2\" class=\"data row2 col2\" >$6,582,837,936</td> \n",
       "        <td id=\"T_5725e6e4_3b8f_11e8_9cc4_3ca067dc5c7crow2_col3\" class=\"data row2 col3\" >2</td> \n",
       "        <td id=\"T_5725e6e4_3b8f_11e8_9cc4_3ca067dc5c7crow2_col4\" class=\"data row2 col4\" >6.1</td> \n",
       "        <td id=\"T_5725e6e4_3b8f_11e8_9cc4_3ca067dc5c7crow2_col5\" class=\"data row2 col5\" >224%</td> \n",
       "    </tr>    <tr> \n",
       "        <th id=\"T_5725e6e4_3b8f_11e8_9cc4_3ca067dc5c7clevel0_row3\" class=\"row_heading level0 row3\" >9</th> \n",
       "        <td id=\"T_5725e6e4_3b8f_11e8_9cc4_3ca067dc5c7crow3_col0\" class=\"data row3 col0\" >November</td> \n",
       "        <td id=\"T_5725e6e4_3b8f_11e8_9cc4_3ca067dc5c7crow3_col1\" class=\"data row3 col1\" >$22,418,144,562</td> \n",
       "        <td id=\"T_5725e6e4_3b8f_11e8_9cc4_3ca067dc5c7crow3_col2\" class=\"data row3 col2\" >$7,181,503,469</td> \n",
       "        <td id=\"T_5725e6e4_3b8f_11e8_9cc4_3ca067dc5c7crow3_col3\" class=\"data row3 col3\" >133</td> \n",
       "        <td id=\"T_5725e6e4_3b8f_11e8_9cc4_3ca067dc5c7crow3_col4\" class=\"data row3 col4\" >6.5</td> \n",
       "        <td id=\"T_5725e6e4_3b8f_11e8_9cc4_3ca067dc5c7crow3_col5\" class=\"data row3 col5\" >212%</td> \n",
       "    </tr>    <tr> \n",
       "        <th id=\"T_5725e6e4_3b8f_11e8_9cc4_3ca067dc5c7clevel0_row4\" class=\"row_heading level0 row4\" >5</th> \n",
       "        <td id=\"T_5725e6e4_3b8f_11e8_9cc4_3ca067dc5c7crow4_col0\" class=\"data row4 col0\" >July</td> \n",
       "        <td id=\"T_5725e6e4_3b8f_11e8_9cc4_3ca067dc5c7crow4_col1\" class=\"data row4 col1\" >$24,704,426,548</td> \n",
       "        <td id=\"T_5725e6e4_3b8f_11e8_9cc4_3ca067dc5c7crow4_col2\" class=\"data row4 col2\" >$8,080,515,448</td> \n",
       "        <td id=\"T_5725e6e4_3b8f_11e8_9cc4_3ca067dc5c7crow4_col3\" class=\"data row4 col3\" >32</td> \n",
       "        <td id=\"T_5725e6e4_3b8f_11e8_9cc4_3ca067dc5c7crow4_col4\" class=\"data row4 col4\" >6.2</td> \n",
       "        <td id=\"T_5725e6e4_3b8f_11e8_9cc4_3ca067dc5c7crow4_col5\" class=\"data row4 col5\" >206%</td> \n",
       "    </tr>    <tr> \n",
       "        <th id=\"T_5725e6e4_3b8f_11e8_9cc4_3ca067dc5c7clevel0_row5\" class=\"row_heading level0 row5\" >8</th> \n",
       "        <td id=\"T_5725e6e4_3b8f_11e8_9cc4_3ca067dc5c7crow5_col0\" class=\"data row5 col0\" >May</td> \n",
       "        <td id=\"T_5725e6e4_3b8f_11e8_9cc4_3ca067dc5c7crow5_col1\" class=\"data row5 col1\" >$27,325,073,348</td> \n",
       "        <td id=\"T_5725e6e4_3b8f_11e8_9cc4_3ca067dc5c7crow5_col2\" class=\"data row5 col2\" >$9,387,618,741</td> \n",
       "        <td id=\"T_5725e6e4_3b8f_11e8_9cc4_3ca067dc5c7crow5_col3\" class=\"data row5 col3\" >46</td> \n",
       "        <td id=\"T_5725e6e4_3b8f_11e8_9cc4_3ca067dc5c7crow5_col4\" class=\"data row5 col4\" >6.4</td> \n",
       "        <td id=\"T_5725e6e4_3b8f_11e8_9cc4_3ca067dc5c7crow5_col5\" class=\"data row5 col5\" >191%</td> \n",
       "    </tr>    <tr> \n",
       "        <th id=\"T_5725e6e4_3b8f_11e8_9cc4_3ca067dc5c7clevel0_row6\" class=\"row_heading level0 row6\" >3</th> \n",
       "        <td id=\"T_5725e6e4_3b8f_11e8_9cc4_3ca067dc5c7crow6_col0\" class=\"data row6 col0\" >February</td> \n",
       "        <td id=\"T_5725e6e4_3b8f_11e8_9cc4_3ca067dc5c7crow6_col1\" class=\"data row6 col1\" >$15,577,154,469</td> \n",
       "        <td id=\"T_5725e6e4_3b8f_11e8_9cc4_3ca067dc5c7crow6_col2\" class=\"data row6 col2\" >$5,556,232,967</td> \n",
       "        <td id=\"T_5725e6e4_3b8f_11e8_9cc4_3ca067dc5c7crow6_col3\" class=\"data row6 col3\" >19</td> \n",
       "        <td id=\"T_5725e6e4_3b8f_11e8_9cc4_3ca067dc5c7crow6_col4\" class=\"data row6 col4\" >6.2</td> \n",
       "        <td id=\"T_5725e6e4_3b8f_11e8_9cc4_3ca067dc5c7crow6_col5\" class=\"data row6 col5\" >180%</td> \n",
       "    </tr>    <tr> \n",
       "        <th id=\"T_5725e6e4_3b8f_11e8_9cc4_3ca067dc5c7clevel0_row7\" class=\"row_heading level0 row7\" >7</th> \n",
       "        <td id=\"T_5725e6e4_3b8f_11e8_9cc4_3ca067dc5c7crow7_col0\" class=\"data row7 col0\" >March</td> \n",
       "        <td id=\"T_5725e6e4_3b8f_11e8_9cc4_3ca067dc5c7crow7_col1\" class=\"data row7 col1\" >$21,226,776,059</td> \n",
       "        <td id=\"T_5725e6e4_3b8f_11e8_9cc4_3ca067dc5c7crow7_col2\" class=\"data row7 col2\" >$7,761,220,129</td> \n",
       "        <td id=\"T_5725e6e4_3b8f_11e8_9cc4_3ca067dc5c7crow7_col3\" class=\"data row7 col3\" >8</td> \n",
       "        <td id=\"T_5725e6e4_3b8f_11e8_9cc4_3ca067dc5c7crow7_col4\" class=\"data row7 col4\" >6.2</td> \n",
       "        <td id=\"T_5725e6e4_3b8f_11e8_9cc4_3ca067dc5c7crow7_col5\" class=\"data row7 col5\" >173%</td> \n",
       "    </tr>    <tr> \n",
       "        <th id=\"T_5725e6e4_3b8f_11e8_9cc4_3ca067dc5c7clevel0_row8\" class=\"row_heading level0 row8\" >10</th> \n",
       "        <td id=\"T_5725e6e4_3b8f_11e8_9cc4_3ca067dc5c7crow8_col0\" class=\"data row8 col0\" >October</td> \n",
       "        <td id=\"T_5725e6e4_3b8f_11e8_9cc4_3ca067dc5c7crow8_col1\" class=\"data row8 col1\" >$17,881,531,302</td> \n",
       "        <td id=\"T_5725e6e4_3b8f_11e8_9cc4_3ca067dc5c7crow8_col2\" class=\"data row8 col2\" >$6,603,895,033</td> \n",
       "        <td id=\"T_5725e6e4_3b8f_11e8_9cc4_3ca067dc5c7crow8_col3\" class=\"data row8 col3\" >65</td> \n",
       "        <td id=\"T_5725e6e4_3b8f_11e8_9cc4_3ca067dc5c7crow8_col4\" class=\"data row8 col4\" >6.3</td> \n",
       "        <td id=\"T_5725e6e4_3b8f_11e8_9cc4_3ca067dc5c7crow8_col5\" class=\"data row8 col5\" >171%</td> \n",
       "    </tr>    <tr> \n",
       "        <th id=\"T_5725e6e4_3b8f_11e8_9cc4_3ca067dc5c7clevel0_row9\" class=\"row_heading level0 row9\" >1</th> \n",
       "        <td id=\"T_5725e6e4_3b8f_11e8_9cc4_3ca067dc5c7crow9_col0\" class=\"data row9 col0\" >August</td> \n",
       "        <td id=\"T_5725e6e4_3b8f_11e8_9cc4_3ca067dc5c7crow9_col1\" class=\"data row9 col1\" >$14,567,168,524</td> \n",
       "        <td id=\"T_5725e6e4_3b8f_11e8_9cc4_3ca067dc5c7crow9_col2\" class=\"data row9 col2\" >$5,817,958,457</td> \n",
       "        <td id=\"T_5725e6e4_3b8f_11e8_9cc4_3ca067dc5c7crow9_col3\" class=\"data row9 col3\" >34</td> \n",
       "        <td id=\"T_5725e6e4_3b8f_11e8_9cc4_3ca067dc5c7crow9_col4\" class=\"data row9 col4\" >6.1</td> \n",
       "        <td id=\"T_5725e6e4_3b8f_11e8_9cc4_3ca067dc5c7crow9_col5\" class=\"data row9 col5\" >150%</td> \n",
       "    </tr>    <tr> \n",
       "        <th id=\"T_5725e6e4_3b8f_11e8_9cc4_3ca067dc5c7clevel0_row10\" class=\"row_heading level0 row10\" >11</th> \n",
       "        <td id=\"T_5725e6e4_3b8f_11e8_9cc4_3ca067dc5c7crow10_col0\" class=\"data row10 col0\" >September</td> \n",
       "        <td id=\"T_5725e6e4_3b8f_11e8_9cc4_3ca067dc5c7crow10_col1\" class=\"data row10 col1\" >$15,265,393,820</td> \n",
       "        <td id=\"T_5725e6e4_3b8f_11e8_9cc4_3ca067dc5c7crow10_col2\" class=\"data row10 col2\" >$6,268,147,108</td> \n",
       "        <td id=\"T_5725e6e4_3b8f_11e8_9cc4_3ca067dc5c7crow10_col3\" class=\"data row10 col3\" >59</td> \n",
       "        <td id=\"T_5725e6e4_3b8f_11e8_9cc4_3ca067dc5c7crow10_col4\" class=\"data row10 col4\" >6.2</td> \n",
       "        <td id=\"T_5725e6e4_3b8f_11e8_9cc4_3ca067dc5c7crow10_col5\" class=\"data row10 col5\" >144%</td> \n",
       "    </tr>    <tr> \n",
       "        <th id=\"T_5725e6e4_3b8f_11e8_9cc4_3ca067dc5c7clevel0_row11\" class=\"row_heading level0 row11\" >4</th> \n",
       "        <td id=\"T_5725e6e4_3b8f_11e8_9cc4_3ca067dc5c7crow11_col0\" class=\"data row11 col0\" >January</td> \n",
       "        <td id=\"T_5725e6e4_3b8f_11e8_9cc4_3ca067dc5c7crow11_col1\" class=\"data row11 col1\" >$9,969,052,578</td> \n",
       "        <td id=\"T_5725e6e4_3b8f_11e8_9cc4_3ca067dc5c7crow11_col2\" class=\"data row11 col2\" >$4,161,771,158</td> \n",
       "        <td id=\"T_5725e6e4_3b8f_11e8_9cc4_3ca067dc5c7crow11_col3\" class=\"data row11 col3\" >2</td> \n",
       "        <td id=\"T_5725e6e4_3b8f_11e8_9cc4_3ca067dc5c7crow11_col4\" class=\"data row11 col4\" >5.9</td> \n",
       "        <td id=\"T_5725e6e4_3b8f_11e8_9cc4_3ca067dc5c7crow11_col5\" class=\"data row11 col5\" >140%</td> \n",
       "    </tr></tbody> \n",
       "</table> "
      ],
      "text/plain": [
       "<pandas.io.formats.style.Styler at 0x2208e971908>"
      ]
     },
     "execution_count": 18,
     "metadata": {},
     "output_type": "execute_result"
    }
   ],
   "source": [
    "mo = movdat_df.groupby('release_month').sum()\n",
    "mo = mo.drop(columns=['vote_average', 'roi'])\n",
    "moroi = pd.DataFrame((mo['revenue']/mo['budget']-1),columns=['roi'])\n",
    "mo = pd.merge(mo,moroi, how='outer',left_index=True,right_index=True)\n",
    "mo = mo.reset_index()\n",
    "mo2 = movdat_df.groupby('release_month').mean()\n",
    "mo2 = mo2.drop(columns=['budget', 'revenue','award_noms','roi'])\n",
    "mo2 = mo2.reset_index()\n",
    "mo3 = pd.merge(mo,mo2)\n",
    "mo3 = mo3[['release_month','revenue','budget','award_noms','vote_average','roi']]\n",
    "mo3 = mo3.sort_values(['roi'], ascending=False)\n",
    "mo3.style.format({'revenue': \"${:,.0f}\", 'budget': '${:,.0f}', 'roi': '{:.0%}', 'vote_average': '{:.1f}'})"
   ]
  },
  {
   "cell_type": "code",
   "execution_count": 20,
   "metadata": {},
   "outputs": [
    {
     "data": {
      "image/png": "[encoded data removed]",
      "text/plain": [
       "<matplotlib.figure.Figure at 0x2208eaa1ba8>"
      ]
     },
     "metadata": {},
     "output_type": "display_data"
    }
   ],
   "source": [
    "plt.subplots(figsize=(11, 7))\n",
    "sns.set_color_codes(\"muted\")\n",
    "sns.barplot(x=\"revenue\", y=\"release_month\", data=mo3,label=\"Revenue\", color=\"g\")\n",
    "sns.set_color_codes(\"deep\")\n",
    "sns.barplot(x=\"budget\", y=\"release_month\", data=mo3,label=\"Budget\", color=\"g\")\n",
    "plt.legend(ncol=2, loc=\"lower right\", frameon=True)\n",
    "plt.xlabel(\"Tens of Billion Dollars($)\")\n",
    "plt.title(\"Release Month vs Revenue & Budget\")\n",
    "plt.savefig(\"Release Month Bar Plot\")\n",
    "plt.show()"
   ]
  },
  {
   "cell_type": "markdown",
   "metadata": {},
   "source": [
    "# Correlation matrix"
   ]
  },
  {
   "cell_type": "code",
   "execution_count": 21,
   "metadata": {},
   "outputs": [
    {
     "data": {
      "text/html": [
       "<div>\n",
       "<style scoped>\n",
       "    .dataframe tbody tr th:only-of-type {\n",
       "        vertical-align: middle;\n",
       "    }\n",
       "\n",
       "    .dataframe tbody tr th {\n",
       "        vertical-align: top;\n",
       "    }\n",
       "\n",
       "    .dataframe thead th {\n",
       "        text-align: right;\n",
       "    }\n",
       "</style>\n",
       "<table border=\"1\" class=\"dataframe\">\n",
       "  <thead>\n",
       "    <tr style=\"text-align: right;\">\n",
       "      <th></th>\n",
       "      <th>revenue</th>\n",
       "      <th>budget</th>\n",
       "      <th>vote_average</th>\n",
       "      <th>award_noms</th>\n",
       "    </tr>\n",
       "  </thead>\n",
       "  <tbody>\n",
       "    <tr>\n",
       "      <th>revenue</th>\n",
       "      <td>1.000000</td>\n",
       "      <td>0.783859</td>\n",
       "      <td>0.193535</td>\n",
       "      <td>0.197553</td>\n",
       "    </tr>\n",
       "    <tr>\n",
       "      <th>budget</th>\n",
       "      <td>0.783859</td>\n",
       "      <td>1.000000</td>\n",
       "      <td>0.074723</td>\n",
       "      <td>0.094426</td>\n",
       "    </tr>\n",
       "    <tr>\n",
       "      <th>vote_average</th>\n",
       "      <td>0.193535</td>\n",
       "      <td>0.074723</td>\n",
       "      <td>1.000000</td>\n",
       "      <td>0.245995</td>\n",
       "    </tr>\n",
       "    <tr>\n",
       "      <th>award_noms</th>\n",
       "      <td>0.197553</td>\n",
       "      <td>0.094426</td>\n",
       "      <td>0.245995</td>\n",
       "      <td>1.000000</td>\n",
       "    </tr>\n",
       "  </tbody>\n",
       "</table>\n",
       "</div>"
      ],
      "text/plain": [
       "               revenue    budget  vote_average  award_noms\n",
       "revenue       1.000000  0.783859      0.193535    0.197553\n",
       "budget        0.783859  1.000000      0.074723    0.094426\n",
       "vote_average  0.193535  0.074723      1.000000    0.245995\n",
       "award_noms    0.197553  0.094426      0.245995    1.000000"
      ]
     },
     "execution_count": 21,
     "metadata": {},
     "output_type": "execute_result"
    }
   ],
   "source": [
    "movcor = movdat_df.drop(columns=['roi'])\n",
    "movcor.corr()"
   ]
  },
  {
   "cell_type": "code",
   "execution_count": 22,
   "metadata": {},
   "outputs": [
    {
     "data": {
      "text/html": [
       "<div>\n",
       "<style scoped>\n",
       "    .dataframe tbody tr th:only-of-type {\n",
       "        vertical-align: middle;\n",
       "    }\n",
       "\n",
       "    .dataframe tbody tr th {\n",
       "        vertical-align: top;\n",
       "    }\n",
       "\n",
       "    .dataframe thead th {\n",
       "        text-align: right;\n",
       "    }\n",
       "</style>\n",
       "<table border=\"1\" class=\"dataframe\">\n",
       "  <thead>\n",
       "    <tr style=\"text-align: right;\">\n",
       "      <th></th>\n",
       "      <th>revenue</th>\n",
       "      <th>budget</th>\n",
       "      <th>award_noms</th>\n",
       "      <th>vote_average</th>\n",
       "      <th>roi</th>\n",
       "    </tr>\n",
       "  </thead>\n",
       "  <tbody>\n",
       "    <tr>\n",
       "      <th>revenue</th>\n",
       "      <td>1.000000</td>\n",
       "      <td>0.994348</td>\n",
       "      <td>0.376329</td>\n",
       "      <td>-0.105804</td>\n",
       "      <td>-0.017470</td>\n",
       "    </tr>\n",
       "    <tr>\n",
       "      <th>budget</th>\n",
       "      <td>0.994348</td>\n",
       "      <td>1.000000</td>\n",
       "      <td>0.423200</td>\n",
       "      <td>-0.100747</td>\n",
       "      <td>-0.099370</td>\n",
       "    </tr>\n",
       "    <tr>\n",
       "      <th>award_noms</th>\n",
       "      <td>0.376329</td>\n",
       "      <td>0.423200</td>\n",
       "      <td>1.000000</td>\n",
       "      <td>0.171929</td>\n",
       "      <td>-0.194001</td>\n",
       "    </tr>\n",
       "    <tr>\n",
       "      <th>vote_average</th>\n",
       "      <td>-0.105804</td>\n",
       "      <td>-0.100747</td>\n",
       "      <td>0.171929</td>\n",
       "      <td>1.000000</td>\n",
       "      <td>-0.258650</td>\n",
       "    </tr>\n",
       "    <tr>\n",
       "      <th>roi</th>\n",
       "      <td>-0.017470</td>\n",
       "      <td>-0.099370</td>\n",
       "      <td>-0.194001</td>\n",
       "      <td>-0.258650</td>\n",
       "      <td>1.000000</td>\n",
       "    </tr>\n",
       "  </tbody>\n",
       "</table>\n",
       "</div>"
      ],
      "text/plain": [
       "               revenue    budget  award_noms  vote_average       roi\n",
       "revenue       1.000000  0.994348    0.376329     -0.105804 -0.017470\n",
       "budget        0.994348  1.000000    0.423200     -0.100747 -0.099370\n",
       "award_noms    0.376329  0.423200    1.000000      0.171929 -0.194001\n",
       "vote_average -0.105804 -0.100747    0.171929      1.000000 -0.258650\n",
       "roi          -0.017470 -0.099370   -0.194001     -0.258650  1.000000"
      ]
     },
     "execution_count": 22,
     "metadata": {},
     "output_type": "execute_result"
    }
   ],
   "source": [
    "g3.corr()"
   ]
  },
  {
   "cell_type": "code",
   "execution_count": 23,
   "metadata": {},
   "outputs": [
    {
     "data": {
      "text/html": [
       "<div>\n",
       "<style scoped>\n",
       "    .dataframe tbody tr th:only-of-type {\n",
       "        vertical-align: middle;\n",
       "    }\n",
       "\n",
       "    .dataframe tbody tr th {\n",
       "        vertical-align: top;\n",
       "    }\n",
       "\n",
       "    .dataframe thead th {\n",
       "        text-align: right;\n",
       "    }\n",
       "</style>\n",
       "<table border=\"1\" class=\"dataframe\">\n",
       "  <thead>\n",
       "    <tr style=\"text-align: right;\">\n",
       "      <th></th>\n",
       "      <th>revenue</th>\n",
       "      <th>budget</th>\n",
       "      <th>award_noms</th>\n",
       "      <th>vote_average</th>\n",
       "      <th>roi</th>\n",
       "    </tr>\n",
       "  </thead>\n",
       "  <tbody>\n",
       "    <tr>\n",
       "      <th>revenue</th>\n",
       "      <td>1.000000</td>\n",
       "      <td>0.958641</td>\n",
       "      <td>0.202686</td>\n",
       "      <td>0.576018</td>\n",
       "      <td>0.901279</td>\n",
       "    </tr>\n",
       "    <tr>\n",
       "      <th>budget</th>\n",
       "      <td>0.958641</td>\n",
       "      <td>1.000000</td>\n",
       "      <td>0.250427</td>\n",
       "      <td>0.660786</td>\n",
       "      <td>0.757538</td>\n",
       "    </tr>\n",
       "    <tr>\n",
       "      <th>award_noms</th>\n",
       "      <td>0.202686</td>\n",
       "      <td>0.250427</td>\n",
       "      <td>1.000000</td>\n",
       "      <td>0.800369</td>\n",
       "      <td>0.153446</td>\n",
       "    </tr>\n",
       "    <tr>\n",
       "      <th>vote_average</th>\n",
       "      <td>0.576018</td>\n",
       "      <td>0.660786</td>\n",
       "      <td>0.800369</td>\n",
       "      <td>1.000000</td>\n",
       "      <td>0.444587</td>\n",
       "    </tr>\n",
       "    <tr>\n",
       "      <th>roi</th>\n",
       "      <td>0.901279</td>\n",
       "      <td>0.757538</td>\n",
       "      <td>0.153446</td>\n",
       "      <td>0.444587</td>\n",
       "      <td>1.000000</td>\n",
       "    </tr>\n",
       "  </tbody>\n",
       "</table>\n",
       "</div>"
      ],
      "text/plain": [
       "               revenue    budget  award_noms  vote_average       roi\n",
       "revenue       1.000000  0.958641    0.202686      0.576018  0.901279\n",
       "budget        0.958641  1.000000    0.250427      0.660786  0.757538\n",
       "award_noms    0.202686  0.250427    1.000000      0.800369  0.153446\n",
       "vote_average  0.576018  0.660786    0.800369      1.000000  0.444587\n",
       "roi           0.901279  0.757538    0.153446      0.444587  1.000000"
      ]
     },
     "execution_count": 23,
     "metadata": {},
     "output_type": "execute_result"
    }
   ],
   "source": [
    "mo3.corr()"
   ]
  },
  {
   "cell_type": "code",
   "execution_count": 24,
   "metadata": {},
   "outputs": [
    {
     "data": {
      "image/png": "[encoded data removed]",
      "text/plain": [
       "<matplotlib.figure.Figure at 0x2208ea866a0>"
      ]
     },
     "metadata": {},
     "output_type": "display_data"
    }
   ],
   "source": [
    "cmap = sns.diverging_palette(220, 10, as_cmap=True)\n",
    "plt.subplots(figsize=(11, 7))\n",
    "sns.heatmap(movcor.corr(),cmap=cmap,vmin=-0.1, center=0)\n",
    "plt.title(\"Correlation Heatmap\")\n",
    "plt.savefig(\"Correlation Heatmap\")\n",
    "plt.show()"
   ]
  },
  {
   "cell_type": "markdown",
   "metadata": {},
   "source": [
    "#Scatter plots"
   ]
  },
  {
   "cell_type": "code",
   "execution_count": 25,
   "metadata": {},
   "outputs": [
    {
     "data": {
      "text/plain": [
       "<seaborn.axisgrid.JointGrid at 0x2208ea86c88>"
      ]
     },
     "execution_count": 25,
     "metadata": {},
     "output_type": "execute_result"
    },
    {
     "data": {
      "image/png": "[encoded data removed]",
      "text/plain": [
       "<matplotlib.figure.Figure at 0x2208ea86780>"
      ]
     },
     "metadata": {},
     "output_type": "display_data"
    }
   ],
   "source": [
    "sns.jointplot('budget','revenue',data=movdat_df,kind=\"reg\")\n"
   ]
  },
  {
   "cell_type": "code",
   "execution_count": 26,
   "metadata": {},
   "outputs": [
    {
     "data": {
      "text/plain": [
       "<seaborn.axisgrid.JointGrid at 0x2208f33e710>"
      ]
     },
     "execution_count": 26,
     "metadata": {},
     "output_type": "execute_result"
    },
    {
     "data": {
      "image/png": "[encoded data removed]",
      "text/plain": [
       "<matplotlib.figure.Figure at 0x2208f33e390>"
      ]
     },
     "metadata": {},
     "output_type": "display_data"
    }
   ],
   "source": [
    "sns.jointplot('budget','revenue',data=g3,kind=\"reg\")"
   ]
  },
  {
   "cell_type": "code",
   "execution_count": 27,
   "metadata": {},
   "outputs": [
    {
     "data": {
      "text/plain": [
       "<seaborn.axisgrid.JointGrid at 0x2208e8daeb8>"
      ]
     },
     "execution_count": 27,
     "metadata": {},
     "output_type": "execute_result"
    },
    {
     "data": {
      "image/png": "[encoded data removed]",
      "text/plain": [
       "<matplotlib.figure.Figure at 0x2208e8da358>"
      ]
     },
     "metadata": {},
     "output_type": "display_data"
    }
   ],
   "source": [
    "sns.jointplot('budget','revenue',data=mo3,kind=\"reg\")"
   ]
  },
  {
   "cell_type": "code",
   "execution_count": 28,
   "metadata": {},
   "outputs": [
    {
     "data": {
      "text/plain": [
       "<seaborn.axisgrid.JointGrid at 0x2208ecd0828>"
      ]
     },
     "execution_count": 28,
     "metadata": {},
     "output_type": "execute_result"
    },
    {
     "data": {
      "image/png": "[encoded data removed]",
      "text/plain": [
       "<matplotlib.figure.Figure at 0x2208ecdfbe0>"
      ]
     },
     "metadata": {},
     "output_type": "display_data"
    }
   ],
   "source": [
    "sns.jointplot('vote_average','revenue',data=movdat_df,kind=\"reg\")"
   ]
  },
  {
   "cell_type": "code",
   "execution_count": 29,
   "metadata": {},
   "outputs": [
    {
     "data": {
      "text/plain": [
       "<seaborn.axisgrid.JointGrid at 0x2208ec90390>"
      ]
     },
     "execution_count": 29,
     "metadata": {},
     "output_type": "execute_result"
    },
    {
     "data": {
      "image/png": "[encoded data removed]",
      "text/plain": [
       "<matplotlib.figure.Figure at 0x2208ec90358>"
      ]
     },
     "metadata": {},
     "output_type": "display_data"
    }
   ],
   "source": [
    "sns.jointplot('award_noms','revenue',data=movdat_df,kind=\"reg\")"
   ]
  },
  {
   "cell_type": "code",
   "execution_count": 30,
   "metadata": {},
   "outputs": [
    {
     "data": {
      "text/plain": [
       "<seaborn.axisgrid.JointGrid at 0x2208eb90a58>"
      ]
     },
     "execution_count": 30,
     "metadata": {},
     "output_type": "execute_result"
    },
    {
     "data": {
      "image/png": "[encoded data removed]",
      "text/plain": [
       "<matplotlib.figure.Figure at 0x2208edceac8>"
      ]
     },
     "metadata": {},
     "output_type": "display_data"
    }
   ],
   "source": [
    "sns.jointplot('roi','revenue',data=mo3,kind=\"reg\")"
   ]
  },
  {
   "cell_type": "code",
   "execution_count": 31,
   "metadata": {},
   "outputs": [
    {
     "data": {
      "text/plain": [
       "<matplotlib.axes._subplots.AxesSubplot at 0x2208f2232e8>"
      ]
     },
     "execution_count": 31,
     "metadata": {},
     "output_type": "execute_result"
    },
    {
     "data": {
      "image/png": "[encoded data removed]",
      "text/plain": [
       "<matplotlib.figure.Figure at 0x2208ed00da0>"
      ]
     },
     "metadata": {},
     "output_type": "display_data"
    }
   ],
   "source": [
    "sns.distplot(movdat_df['budget'])"
   ]
  },
  {
   "cell_type": "code",
   "execution_count": null,
   "metadata": {},
   "outputs": [],
   "source": []
  }
 ],
 "metadata": {
  "kernelspec": {
   "display_name": "Python 3",
   "language": "python",
   "name": "python3"
  },
  "language_info": {
   "codemirror_mode": {
    "name": "ipython",
    "version": 3
   },
   "file_extension": ".py",
   "mimetype": "text/x-python",
   "name": "python",
   "nbconvert_exporter": "python",
   "pygments_lexer": "ipython3",
   "version": "3.6.4"
  }
 },
 "nbformat": 4,
 "nbformat_minor": 2
}
